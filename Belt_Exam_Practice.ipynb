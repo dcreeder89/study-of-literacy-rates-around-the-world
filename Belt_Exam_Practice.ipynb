{
  "nbformat": 4,
  "nbformat_minor": 0,
  "metadata": {
    "colab": {
      "provenance": [],
      "authorship_tag": "ABX9TyMIjNxwW36YebLetaGzFQt8",
      "include_colab_link": true
    },
    "kernelspec": {
      "name": "python3",
      "display_name": "Python 3"
    },
    "language_info": {
      "name": "python"
    }
  },
  "cells": [
    {
      "cell_type": "markdown",
      "metadata": {
        "id": "view-in-github",
        "colab_type": "text"
      },
      "source": [
        "<a href=\"https://colab.research.google.com/github/dcreeder89/study-of-literacy-rates-around-the-world/blob/main/Belt_Exam_Practice.ipynb\" target=\"_parent\"><img src=\"https://colab.research.google.com/assets/colab-badge.svg\" alt=\"Open In Colab\"/></a>"
      ]
    },
    {
      "cell_type": "markdown",
      "source": [
        "# Study of Literacy Rates Around the World (Practice Belt Exam)\n",
        "\n",
        "- Christina Reeder\n",
        "- 30 Nov 2022"
      ],
      "metadata": {
        "id": "7zJ_q3L8wOX7"
      }
    },
    {
      "cell_type": "code",
      "execution_count": 1,
      "metadata": {
        "id": "S_dZFYHVwNbM"
      },
      "outputs": [],
      "source": [
        "import pandas as pd\n",
        "import seaborn as sns\n",
        "import numpy as np\n",
        "import matplotlib.pyplot as plt"
      ]
    },
    {
      "cell_type": "code",
      "source": [
        "from google.colab import drive\n",
        "drive.mount('/content/drive')"
      ],
      "metadata": {
        "colab": {
          "base_uri": "https://localhost:8080/"
        },
        "id": "AtlZ5UNKwggj",
        "outputId": "d77c974b-7eb7-45e8-c921-e4763305fee4"
      },
      "execution_count": 2,
      "outputs": [
        {
          "output_type": "stream",
          "name": "stdout",
          "text": [
            "Mounted at /content/drive\n"
          ]
        }
      ]
    },
    {
      "cell_type": "code",
      "source": [
        "filename = '/content/drive/MyDrive/Coding Dojo/Belt Exams/Stack 1/literacy_rates_updated.xlsx'\n",
        "df = pd.read_excel(filename)\n",
        "df.info()\n",
        "df.head()"
      ],
      "metadata": {
        "colab": {
          "base_uri": "https://localhost:8080/",
          "height": 440
        },
        "id": "KmoHkP47w4lr",
        "outputId": "bffa41c5-18a3-428a-d788-96f2f2590e7f"
      },
      "execution_count": 3,
      "outputs": [
        {
          "output_type": "stream",
          "name": "stdout",
          "text": [
            "<class 'pandas.core.frame.DataFrame'>\n",
            "RangeIndex: 3313 entries, 0 to 3312\n",
            "Data columns (total 6 columns):\n",
            " #   Column         Non-Null Count  Dtype  \n",
            "---  ------         --------------  -----  \n",
            " 0   Region         3309 non-null   object \n",
            " 1   Country        3313 non-null   object \n",
            " 2   Year           3313 non-null   object \n",
            " 3   Age            3313 non-null   object \n",
            " 4   Gender         3313 non-null   object \n",
            " 5   Literacy rate  3308 non-null   float64\n",
            "dtypes: float64(1), object(5)\n",
            "memory usage: 155.4+ KB\n"
          ]
        },
        {
          "output_type": "execute_result",
          "data": {
            "text/plain": [
              "                      Region      Country    Year    Age  Gender  \\\n",
              "0  Central and Southern Asia  Afghanistan  2011.0    <15  female   \n",
              "1  Central and Southern Asia  Afghanistan  2011.0    <15    male   \n",
              "2                        NaN  Afghanistan  2011.0  15-24  female   \n",
              "3                        NaN  Afghanistan  2011.0  15-24    male   \n",
              "4  Central and Southern Asia  Afghanistan  2011.0  25-64  female   \n",
              "\n",
              "   Literacy rate  \n",
              "0       0.176121  \n",
              "1       0.454171  \n",
              "2       0.321132  \n",
              "3       0.618791  \n",
              "4       0.084128  "
            ],
            "text/html": [
              "\n",
              "  <div id=\"df-d8169825-53ea-41ae-8799-85f0aebaf225\">\n",
              "    <div class=\"colab-df-container\">\n",
              "      <div>\n",
              "<style scoped>\n",
              "    .dataframe tbody tr th:only-of-type {\n",
              "        vertical-align: middle;\n",
              "    }\n",
              "\n",
              "    .dataframe tbody tr th {\n",
              "        vertical-align: top;\n",
              "    }\n",
              "\n",
              "    .dataframe thead th {\n",
              "        text-align: right;\n",
              "    }\n",
              "</style>\n",
              "<table border=\"1\" class=\"dataframe\">\n",
              "  <thead>\n",
              "    <tr style=\"text-align: right;\">\n",
              "      <th></th>\n",
              "      <th>Region</th>\n",
              "      <th>Country</th>\n",
              "      <th>Year</th>\n",
              "      <th>Age</th>\n",
              "      <th>Gender</th>\n",
              "      <th>Literacy rate</th>\n",
              "    </tr>\n",
              "  </thead>\n",
              "  <tbody>\n",
              "    <tr>\n",
              "      <th>0</th>\n",
              "      <td>Central and Southern Asia</td>\n",
              "      <td>Afghanistan</td>\n",
              "      <td>2011.0</td>\n",
              "      <td>&lt;15</td>\n",
              "      <td>female</td>\n",
              "      <td>0.176121</td>\n",
              "    </tr>\n",
              "    <tr>\n",
              "      <th>1</th>\n",
              "      <td>Central and Southern Asia</td>\n",
              "      <td>Afghanistan</td>\n",
              "      <td>2011.0</td>\n",
              "      <td>&lt;15</td>\n",
              "      <td>male</td>\n",
              "      <td>0.454171</td>\n",
              "    </tr>\n",
              "    <tr>\n",
              "      <th>2</th>\n",
              "      <td>NaN</td>\n",
              "      <td>Afghanistan</td>\n",
              "      <td>2011.0</td>\n",
              "      <td>15-24</td>\n",
              "      <td>female</td>\n",
              "      <td>0.321132</td>\n",
              "    </tr>\n",
              "    <tr>\n",
              "      <th>3</th>\n",
              "      <td>NaN</td>\n",
              "      <td>Afghanistan</td>\n",
              "      <td>2011.0</td>\n",
              "      <td>15-24</td>\n",
              "      <td>male</td>\n",
              "      <td>0.618791</td>\n",
              "    </tr>\n",
              "    <tr>\n",
              "      <th>4</th>\n",
              "      <td>Central and Southern Asia</td>\n",
              "      <td>Afghanistan</td>\n",
              "      <td>2011.0</td>\n",
              "      <td>25-64</td>\n",
              "      <td>female</td>\n",
              "      <td>0.084128</td>\n",
              "    </tr>\n",
              "  </tbody>\n",
              "</table>\n",
              "</div>\n",
              "      <button class=\"colab-df-convert\" onclick=\"convertToInteractive('df-d8169825-53ea-41ae-8799-85f0aebaf225')\"\n",
              "              title=\"Convert this dataframe to an interactive table.\"\n",
              "              style=\"display:none;\">\n",
              "        \n",
              "  <svg xmlns=\"http://www.w3.org/2000/svg\" height=\"24px\"viewBox=\"0 0 24 24\"\n",
              "       width=\"24px\">\n",
              "    <path d=\"M0 0h24v24H0V0z\" fill=\"none\"/>\n",
              "    <path d=\"M18.56 5.44l.94 2.06.94-2.06 2.06-.94-2.06-.94-.94-2.06-.94 2.06-2.06.94zm-11 1L8.5 8.5l.94-2.06 2.06-.94-2.06-.94L8.5 2.5l-.94 2.06-2.06.94zm10 10l.94 2.06.94-2.06 2.06-.94-2.06-.94-.94-2.06-.94 2.06-2.06.94z\"/><path d=\"M17.41 7.96l-1.37-1.37c-.4-.4-.92-.59-1.43-.59-.52 0-1.04.2-1.43.59L10.3 9.45l-7.72 7.72c-.78.78-.78 2.05 0 2.83L4 21.41c.39.39.9.59 1.41.59.51 0 1.02-.2 1.41-.59l7.78-7.78 2.81-2.81c.8-.78.8-2.07 0-2.86zM5.41 20L4 18.59l7.72-7.72 1.47 1.35L5.41 20z\"/>\n",
              "  </svg>\n",
              "      </button>\n",
              "      \n",
              "  <style>\n",
              "    .colab-df-container {\n",
              "      display:flex;\n",
              "      flex-wrap:wrap;\n",
              "      gap: 12px;\n",
              "    }\n",
              "\n",
              "    .colab-df-convert {\n",
              "      background-color: #E8F0FE;\n",
              "      border: none;\n",
              "      border-radius: 50%;\n",
              "      cursor: pointer;\n",
              "      display: none;\n",
              "      fill: #1967D2;\n",
              "      height: 32px;\n",
              "      padding: 0 0 0 0;\n",
              "      width: 32px;\n",
              "    }\n",
              "\n",
              "    .colab-df-convert:hover {\n",
              "      background-color: #E2EBFA;\n",
              "      box-shadow: 0px 1px 2px rgba(60, 64, 67, 0.3), 0px 1px 3px 1px rgba(60, 64, 67, 0.15);\n",
              "      fill: #174EA6;\n",
              "    }\n",
              "\n",
              "    [theme=dark] .colab-df-convert {\n",
              "      background-color: #3B4455;\n",
              "      fill: #D2E3FC;\n",
              "    }\n",
              "\n",
              "    [theme=dark] .colab-df-convert:hover {\n",
              "      background-color: #434B5C;\n",
              "      box-shadow: 0px 1px 3px 1px rgba(0, 0, 0, 0.15);\n",
              "      filter: drop-shadow(0px 1px 2px rgba(0, 0, 0, 0.3));\n",
              "      fill: #FFFFFF;\n",
              "    }\n",
              "  </style>\n",
              "\n",
              "      <script>\n",
              "        const buttonEl =\n",
              "          document.querySelector('#df-d8169825-53ea-41ae-8799-85f0aebaf225 button.colab-df-convert');\n",
              "        buttonEl.style.display =\n",
              "          google.colab.kernel.accessAllowed ? 'block' : 'none';\n",
              "\n",
              "        async function convertToInteractive(key) {\n",
              "          const element = document.querySelector('#df-d8169825-53ea-41ae-8799-85f0aebaf225');\n",
              "          const dataTable =\n",
              "            await google.colab.kernel.invokeFunction('convertToInteractive',\n",
              "                                                     [key], {});\n",
              "          if (!dataTable) return;\n",
              "\n",
              "          const docLinkHtml = 'Like what you see? Visit the ' +\n",
              "            '<a target=\"_blank\" href=https://colab.research.google.com/notebooks/data_table.ipynb>data table notebook</a>'\n",
              "            + ' to learn more about interactive tables.';\n",
              "          element.innerHTML = '';\n",
              "          dataTable['output_type'] = 'display_data';\n",
              "          await google.colab.output.renderOutput(dataTable, element);\n",
              "          const docLink = document.createElement('div');\n",
              "          docLink.innerHTML = docLinkHtml;\n",
              "          element.appendChild(docLink);\n",
              "        }\n",
              "      </script>\n",
              "    </div>\n",
              "  </div>\n",
              "  "
            ]
          },
          "metadata": {},
          "execution_count": 3
        }
      ]
    },
    {
      "cell_type": "markdown",
      "source": [
        "## 1. Use Python to Clean the Data"
      ],
      "metadata": {
        "id": "MVFl_FLUxi5p"
      }
    },
    {
      "cell_type": "markdown",
      "source": [
        "### ID and address any duplicate values"
      ],
      "metadata": {
        "id": "8rZSrF6hxrLx"
      }
    },
    {
      "cell_type": "code",
      "source": [
        "# Count the duplicates\n",
        "df.duplicated().sum()"
      ],
      "metadata": {
        "colab": {
          "base_uri": "https://localhost:8080/"
        },
        "id": "-kNNba9RxikC",
        "outputId": "739697f1-e22f-4736-cfab-9e552b22cd6e"
      },
      "execution_count": 4,
      "outputs": [
        {
          "output_type": "execute_result",
          "data": {
            "text/plain": [
              "10"
            ]
          },
          "metadata": {},
          "execution_count": 4
        }
      ]
    },
    {
      "cell_type": "code",
      "source": [
        "# Remove the duplicates \n",
        "df = df.drop_duplicates()\n",
        "# Re-count duplicates after droping to ensure they are gone\n",
        "df.duplicated().sum()"
      ],
      "metadata": {
        "colab": {
          "base_uri": "https://localhost:8080/"
        },
        "id": "lD1r2UXix7Ny",
        "outputId": "cba8d806-dfef-4a8c-b573-927ffd78defb"
      },
      "execution_count": 5,
      "outputs": [
        {
          "output_type": "execute_result",
          "data": {
            "text/plain": [
              "0"
            ]
          },
          "metadata": {},
          "execution_count": 5
        }
      ]
    },
    {
      "cell_type": "markdown",
      "source": [
        "### ID and address any missing values in the dataset"
      ],
      "metadata": {
        "id": "heOApMQbyIOi"
      }
    },
    {
      "cell_type": "code",
      "source": [
        "# Count number of missing values in each column\n",
        "df.isna().sum()"
      ],
      "metadata": {
        "colab": {
          "base_uri": "https://localhost:8080/"
        },
        "id": "hOmaFgIpyd3H",
        "outputId": "e8ad01f0-0f6d-4ce2-c1ab-3a9724115520"
      },
      "execution_count": 6,
      "outputs": [
        {
          "output_type": "execute_result",
          "data": {
            "text/plain": [
              "Region           4\n",
              "Country          0\n",
              "Year             0\n",
              "Age              0\n",
              "Gender           0\n",
              "Literacy rate    5\n",
              "dtype: int64"
            ]
          },
          "metadata": {},
          "execution_count": 6
        }
      ]
    },
    {
      "cell_type": "markdown",
      "source": [
        "> There are 4 missing values in the region and 5 in the literacy rate, I will address the region values first."
      ],
      "metadata": {
        "id": "syxXpvR2yuMp"
      }
    },
    {
      "cell_type": "markdown",
      "source": [
        "#### Missing values in Region Column"
      ],
      "metadata": {
        "id": "FxuINaiCy1ex"
      }
    },
    {
      "cell_type": "code",
      "source": [
        "# Create a filter for the missing values in the region column\n",
        "region_na = df['Region'].isna()\n",
        "df[region_na]"
      ],
      "metadata": {
        "colab": {
          "base_uri": "https://localhost:8080/",
          "height": 175
        },
        "id": "GfOrXz-Dy4HZ",
        "outputId": "605675ea-4f99-4441-c4c7-33b29fe199e8"
      },
      "execution_count": 7,
      "outputs": [
        {
          "output_type": "execute_result",
          "data": {
            "text/plain": [
              "    Region      Country    Year    Age  Gender  Literacy rate\n",
              "2      NaN  Afghanistan  2011.0  15-24  female       0.321132\n",
              "3      NaN  Afghanistan  2011.0  15-24    male       0.618791\n",
              "312    NaN   Uzbekistan  2016.0    65+  female       0.996697\n",
              "313    NaN   Uzbekistan  2016.0    65+    male       0.999018"
            ],
            "text/html": [
              "\n",
              "  <div id=\"df-33d3ebe4-b799-4732-b753-81312427d540\">\n",
              "    <div class=\"colab-df-container\">\n",
              "      <div>\n",
              "<style scoped>\n",
              "    .dataframe tbody tr th:only-of-type {\n",
              "        vertical-align: middle;\n",
              "    }\n",
              "\n",
              "    .dataframe tbody tr th {\n",
              "        vertical-align: top;\n",
              "    }\n",
              "\n",
              "    .dataframe thead th {\n",
              "        text-align: right;\n",
              "    }\n",
              "</style>\n",
              "<table border=\"1\" class=\"dataframe\">\n",
              "  <thead>\n",
              "    <tr style=\"text-align: right;\">\n",
              "      <th></th>\n",
              "      <th>Region</th>\n",
              "      <th>Country</th>\n",
              "      <th>Year</th>\n",
              "      <th>Age</th>\n",
              "      <th>Gender</th>\n",
              "      <th>Literacy rate</th>\n",
              "    </tr>\n",
              "  </thead>\n",
              "  <tbody>\n",
              "    <tr>\n",
              "      <th>2</th>\n",
              "      <td>NaN</td>\n",
              "      <td>Afghanistan</td>\n",
              "      <td>2011.0</td>\n",
              "      <td>15-24</td>\n",
              "      <td>female</td>\n",
              "      <td>0.321132</td>\n",
              "    </tr>\n",
              "    <tr>\n",
              "      <th>3</th>\n",
              "      <td>NaN</td>\n",
              "      <td>Afghanistan</td>\n",
              "      <td>2011.0</td>\n",
              "      <td>15-24</td>\n",
              "      <td>male</td>\n",
              "      <td>0.618791</td>\n",
              "    </tr>\n",
              "    <tr>\n",
              "      <th>312</th>\n",
              "      <td>NaN</td>\n",
              "      <td>Uzbekistan</td>\n",
              "      <td>2016.0</td>\n",
              "      <td>65+</td>\n",
              "      <td>female</td>\n",
              "      <td>0.996697</td>\n",
              "    </tr>\n",
              "    <tr>\n",
              "      <th>313</th>\n",
              "      <td>NaN</td>\n",
              "      <td>Uzbekistan</td>\n",
              "      <td>2016.0</td>\n",
              "      <td>65+</td>\n",
              "      <td>male</td>\n",
              "      <td>0.999018</td>\n",
              "    </tr>\n",
              "  </tbody>\n",
              "</table>\n",
              "</div>\n",
              "      <button class=\"colab-df-convert\" onclick=\"convertToInteractive('df-33d3ebe4-b799-4732-b753-81312427d540')\"\n",
              "              title=\"Convert this dataframe to an interactive table.\"\n",
              "              style=\"display:none;\">\n",
              "        \n",
              "  <svg xmlns=\"http://www.w3.org/2000/svg\" height=\"24px\"viewBox=\"0 0 24 24\"\n",
              "       width=\"24px\">\n",
              "    <path d=\"M0 0h24v24H0V0z\" fill=\"none\"/>\n",
              "    <path d=\"M18.56 5.44l.94 2.06.94-2.06 2.06-.94-2.06-.94-.94-2.06-.94 2.06-2.06.94zm-11 1L8.5 8.5l.94-2.06 2.06-.94-2.06-.94L8.5 2.5l-.94 2.06-2.06.94zm10 10l.94 2.06.94-2.06 2.06-.94-2.06-.94-.94-2.06-.94 2.06-2.06.94z\"/><path d=\"M17.41 7.96l-1.37-1.37c-.4-.4-.92-.59-1.43-.59-.52 0-1.04.2-1.43.59L10.3 9.45l-7.72 7.72c-.78.78-.78 2.05 0 2.83L4 21.41c.39.39.9.59 1.41.59.51 0 1.02-.2 1.41-.59l7.78-7.78 2.81-2.81c.8-.78.8-2.07 0-2.86zM5.41 20L4 18.59l7.72-7.72 1.47 1.35L5.41 20z\"/>\n",
              "  </svg>\n",
              "      </button>\n",
              "      \n",
              "  <style>\n",
              "    .colab-df-container {\n",
              "      display:flex;\n",
              "      flex-wrap:wrap;\n",
              "      gap: 12px;\n",
              "    }\n",
              "\n",
              "    .colab-df-convert {\n",
              "      background-color: #E8F0FE;\n",
              "      border: none;\n",
              "      border-radius: 50%;\n",
              "      cursor: pointer;\n",
              "      display: none;\n",
              "      fill: #1967D2;\n",
              "      height: 32px;\n",
              "      padding: 0 0 0 0;\n",
              "      width: 32px;\n",
              "    }\n",
              "\n",
              "    .colab-df-convert:hover {\n",
              "      background-color: #E2EBFA;\n",
              "      box-shadow: 0px 1px 2px rgba(60, 64, 67, 0.3), 0px 1px 3px 1px rgba(60, 64, 67, 0.15);\n",
              "      fill: #174EA6;\n",
              "    }\n",
              "\n",
              "    [theme=dark] .colab-df-convert {\n",
              "      background-color: #3B4455;\n",
              "      fill: #D2E3FC;\n",
              "    }\n",
              "\n",
              "    [theme=dark] .colab-df-convert:hover {\n",
              "      background-color: #434B5C;\n",
              "      box-shadow: 0px 1px 3px 1px rgba(0, 0, 0, 0.15);\n",
              "      filter: drop-shadow(0px 1px 2px rgba(0, 0, 0, 0.3));\n",
              "      fill: #FFFFFF;\n",
              "    }\n",
              "  </style>\n",
              "\n",
              "      <script>\n",
              "        const buttonEl =\n",
              "          document.querySelector('#df-33d3ebe4-b799-4732-b753-81312427d540 button.colab-df-convert');\n",
              "        buttonEl.style.display =\n",
              "          google.colab.kernel.accessAllowed ? 'block' : 'none';\n",
              "\n",
              "        async function convertToInteractive(key) {\n",
              "          const element = document.querySelector('#df-33d3ebe4-b799-4732-b753-81312427d540');\n",
              "          const dataTable =\n",
              "            await google.colab.kernel.invokeFunction('convertToInteractive',\n",
              "                                                     [key], {});\n",
              "          if (!dataTable) return;\n",
              "\n",
              "          const docLinkHtml = 'Like what you see? Visit the ' +\n",
              "            '<a target=\"_blank\" href=https://colab.research.google.com/notebooks/data_table.ipynb>data table notebook</a>'\n",
              "            + ' to learn more about interactive tables.';\n",
              "          element.innerHTML = '';\n",
              "          dataTable['output_type'] = 'display_data';\n",
              "          await google.colab.output.renderOutput(dataTable, element);\n",
              "          const docLink = document.createElement('div');\n",
              "          docLink.innerHTML = docLinkHtml;\n",
              "          element.appendChild(docLink);\n",
              "        }\n",
              "      </script>\n",
              "    </div>\n",
              "  </div>\n",
              "  "
            ]
          },
          "metadata": {},
          "execution_count": 7
        }
      ]
    },
    {
      "cell_type": "markdown",
      "source": [
        "> The two countries with missing regions are Afghanistan and Uzbekistan. I will look at the dataframe and see if these countries have regions for other datapoints."
      ],
      "metadata": {
        "id": "Y1iU9srI1Ra6"
      }
    },
    {
      "cell_type": "code",
      "source": [
        "# display dataframe entries in which the country is Afghanistan\n",
        "df[df['Country'] == 'Afghanistan'].head()"
      ],
      "metadata": {
        "colab": {
          "base_uri": "https://localhost:8080/",
          "height": 206
        },
        "id": "nFP-C-up1bt5",
        "outputId": "385e342f-95ed-4d83-d183-6da547bbf6a5"
      },
      "execution_count": 8,
      "outputs": [
        {
          "output_type": "execute_result",
          "data": {
            "text/plain": [
              "                      Region      Country    Year    Age  Gender  \\\n",
              "0  Central and Southern Asia  Afghanistan  2011.0    <15  female   \n",
              "1  Central and Southern Asia  Afghanistan  2011.0    <15    male   \n",
              "2                        NaN  Afghanistan  2011.0  15-24  female   \n",
              "3                        NaN  Afghanistan  2011.0  15-24    male   \n",
              "4  Central and Southern Asia  Afghanistan  2011.0  25-64  female   \n",
              "\n",
              "   Literacy rate  \n",
              "0       0.176121  \n",
              "1       0.454171  \n",
              "2       0.321132  \n",
              "3       0.618791  \n",
              "4       0.084128  "
            ],
            "text/html": [
              "\n",
              "  <div id=\"df-50b1630c-57ac-498f-a059-412bef769d18\">\n",
              "    <div class=\"colab-df-container\">\n",
              "      <div>\n",
              "<style scoped>\n",
              "    .dataframe tbody tr th:only-of-type {\n",
              "        vertical-align: middle;\n",
              "    }\n",
              "\n",
              "    .dataframe tbody tr th {\n",
              "        vertical-align: top;\n",
              "    }\n",
              "\n",
              "    .dataframe thead th {\n",
              "        text-align: right;\n",
              "    }\n",
              "</style>\n",
              "<table border=\"1\" class=\"dataframe\">\n",
              "  <thead>\n",
              "    <tr style=\"text-align: right;\">\n",
              "      <th></th>\n",
              "      <th>Region</th>\n",
              "      <th>Country</th>\n",
              "      <th>Year</th>\n",
              "      <th>Age</th>\n",
              "      <th>Gender</th>\n",
              "      <th>Literacy rate</th>\n",
              "    </tr>\n",
              "  </thead>\n",
              "  <tbody>\n",
              "    <tr>\n",
              "      <th>0</th>\n",
              "      <td>Central and Southern Asia</td>\n",
              "      <td>Afghanistan</td>\n",
              "      <td>2011.0</td>\n",
              "      <td>&lt;15</td>\n",
              "      <td>female</td>\n",
              "      <td>0.176121</td>\n",
              "    </tr>\n",
              "    <tr>\n",
              "      <th>1</th>\n",
              "      <td>Central and Southern Asia</td>\n",
              "      <td>Afghanistan</td>\n",
              "      <td>2011.0</td>\n",
              "      <td>&lt;15</td>\n",
              "      <td>male</td>\n",
              "      <td>0.454171</td>\n",
              "    </tr>\n",
              "    <tr>\n",
              "      <th>2</th>\n",
              "      <td>NaN</td>\n",
              "      <td>Afghanistan</td>\n",
              "      <td>2011.0</td>\n",
              "      <td>15-24</td>\n",
              "      <td>female</td>\n",
              "      <td>0.321132</td>\n",
              "    </tr>\n",
              "    <tr>\n",
              "      <th>3</th>\n",
              "      <td>NaN</td>\n",
              "      <td>Afghanistan</td>\n",
              "      <td>2011.0</td>\n",
              "      <td>15-24</td>\n",
              "      <td>male</td>\n",
              "      <td>0.618791</td>\n",
              "    </tr>\n",
              "    <tr>\n",
              "      <th>4</th>\n",
              "      <td>Central and Southern Asia</td>\n",
              "      <td>Afghanistan</td>\n",
              "      <td>2011.0</td>\n",
              "      <td>25-64</td>\n",
              "      <td>female</td>\n",
              "      <td>0.084128</td>\n",
              "    </tr>\n",
              "  </tbody>\n",
              "</table>\n",
              "</div>\n",
              "      <button class=\"colab-df-convert\" onclick=\"convertToInteractive('df-50b1630c-57ac-498f-a059-412bef769d18')\"\n",
              "              title=\"Convert this dataframe to an interactive table.\"\n",
              "              style=\"display:none;\">\n",
              "        \n",
              "  <svg xmlns=\"http://www.w3.org/2000/svg\" height=\"24px\"viewBox=\"0 0 24 24\"\n",
              "       width=\"24px\">\n",
              "    <path d=\"M0 0h24v24H0V0z\" fill=\"none\"/>\n",
              "    <path d=\"M18.56 5.44l.94 2.06.94-2.06 2.06-.94-2.06-.94-.94-2.06-.94 2.06-2.06.94zm-11 1L8.5 8.5l.94-2.06 2.06-.94-2.06-.94L8.5 2.5l-.94 2.06-2.06.94zm10 10l.94 2.06.94-2.06 2.06-.94-2.06-.94-.94-2.06-.94 2.06-2.06.94z\"/><path d=\"M17.41 7.96l-1.37-1.37c-.4-.4-.92-.59-1.43-.59-.52 0-1.04.2-1.43.59L10.3 9.45l-7.72 7.72c-.78.78-.78 2.05 0 2.83L4 21.41c.39.39.9.59 1.41.59.51 0 1.02-.2 1.41-.59l7.78-7.78 2.81-2.81c.8-.78.8-2.07 0-2.86zM5.41 20L4 18.59l7.72-7.72 1.47 1.35L5.41 20z\"/>\n",
              "  </svg>\n",
              "      </button>\n",
              "      \n",
              "  <style>\n",
              "    .colab-df-container {\n",
              "      display:flex;\n",
              "      flex-wrap:wrap;\n",
              "      gap: 12px;\n",
              "    }\n",
              "\n",
              "    .colab-df-convert {\n",
              "      background-color: #E8F0FE;\n",
              "      border: none;\n",
              "      border-radius: 50%;\n",
              "      cursor: pointer;\n",
              "      display: none;\n",
              "      fill: #1967D2;\n",
              "      height: 32px;\n",
              "      padding: 0 0 0 0;\n",
              "      width: 32px;\n",
              "    }\n",
              "\n",
              "    .colab-df-convert:hover {\n",
              "      background-color: #E2EBFA;\n",
              "      box-shadow: 0px 1px 2px rgba(60, 64, 67, 0.3), 0px 1px 3px 1px rgba(60, 64, 67, 0.15);\n",
              "      fill: #174EA6;\n",
              "    }\n",
              "\n",
              "    [theme=dark] .colab-df-convert {\n",
              "      background-color: #3B4455;\n",
              "      fill: #D2E3FC;\n",
              "    }\n",
              "\n",
              "    [theme=dark] .colab-df-convert:hover {\n",
              "      background-color: #434B5C;\n",
              "      box-shadow: 0px 1px 3px 1px rgba(0, 0, 0, 0.15);\n",
              "      filter: drop-shadow(0px 1px 2px rgba(0, 0, 0, 0.3));\n",
              "      fill: #FFFFFF;\n",
              "    }\n",
              "  </style>\n",
              "\n",
              "      <script>\n",
              "        const buttonEl =\n",
              "          document.querySelector('#df-50b1630c-57ac-498f-a059-412bef769d18 button.colab-df-convert');\n",
              "        buttonEl.style.display =\n",
              "          google.colab.kernel.accessAllowed ? 'block' : 'none';\n",
              "\n",
              "        async function convertToInteractive(key) {\n",
              "          const element = document.querySelector('#df-50b1630c-57ac-498f-a059-412bef769d18');\n",
              "          const dataTable =\n",
              "            await google.colab.kernel.invokeFunction('convertToInteractive',\n",
              "                                                     [key], {});\n",
              "          if (!dataTable) return;\n",
              "\n",
              "          const docLinkHtml = 'Like what you see? Visit the ' +\n",
              "            '<a target=\"_blank\" href=https://colab.research.google.com/notebooks/data_table.ipynb>data table notebook</a>'\n",
              "            + ' to learn more about interactive tables.';\n",
              "          element.innerHTML = '';\n",
              "          dataTable['output_type'] = 'display_data';\n",
              "          await google.colab.output.renderOutput(dataTable, element);\n",
              "          const docLink = document.createElement('div');\n",
              "          docLink.innerHTML = docLinkHtml;\n",
              "          element.appendChild(docLink);\n",
              "        }\n",
              "      </script>\n",
              "    </div>\n",
              "  </div>\n",
              "  "
            ]
          },
          "metadata": {},
          "execution_count": 8
        }
      ]
    },
    {
      "cell_type": "markdown",
      "source": [
        "The Region for Afghanistan is Central and Southern Asia. I will change the missing values to that region for the country of Afghanistan"
      ],
      "metadata": {
        "id": "GhJBbv5w1ttB"
      }
    },
    {
      "cell_type": "code",
      "source": [
        "# Change region for Afghanistan to Central and Southern Asia\n",
        "df.loc[df['Country'] == 'Afghanistan', 'Region'] = 'Central and Southern Asia'\n",
        "\n",
        "# Check that it was changed by looking at dataframe entries for Afghanistan\n",
        "df[df['Country'] == 'Afghanistan'].head()"
      ],
      "metadata": {
        "colab": {
          "base_uri": "https://localhost:8080/",
          "height": 206
        },
        "id": "LiATvFwR13Yt",
        "outputId": "42665610-0982-420b-ec15-9e66fc280dfc"
      },
      "execution_count": 9,
      "outputs": [
        {
          "output_type": "execute_result",
          "data": {
            "text/plain": [
              "                      Region      Country    Year    Age  Gender  \\\n",
              "0  Central and Southern Asia  Afghanistan  2011.0    <15  female   \n",
              "1  Central and Southern Asia  Afghanistan  2011.0    <15    male   \n",
              "2  Central and Southern Asia  Afghanistan  2011.0  15-24  female   \n",
              "3  Central and Southern Asia  Afghanistan  2011.0  15-24    male   \n",
              "4  Central and Southern Asia  Afghanistan  2011.0  25-64  female   \n",
              "\n",
              "   Literacy rate  \n",
              "0       0.176121  \n",
              "1       0.454171  \n",
              "2       0.321132  \n",
              "3       0.618791  \n",
              "4       0.084128  "
            ],
            "text/html": [
              "\n",
              "  <div id=\"df-b28a2a81-e0e6-491c-a539-1f7e8ee43e1b\">\n",
              "    <div class=\"colab-df-container\">\n",
              "      <div>\n",
              "<style scoped>\n",
              "    .dataframe tbody tr th:only-of-type {\n",
              "        vertical-align: middle;\n",
              "    }\n",
              "\n",
              "    .dataframe tbody tr th {\n",
              "        vertical-align: top;\n",
              "    }\n",
              "\n",
              "    .dataframe thead th {\n",
              "        text-align: right;\n",
              "    }\n",
              "</style>\n",
              "<table border=\"1\" class=\"dataframe\">\n",
              "  <thead>\n",
              "    <tr style=\"text-align: right;\">\n",
              "      <th></th>\n",
              "      <th>Region</th>\n",
              "      <th>Country</th>\n",
              "      <th>Year</th>\n",
              "      <th>Age</th>\n",
              "      <th>Gender</th>\n",
              "      <th>Literacy rate</th>\n",
              "    </tr>\n",
              "  </thead>\n",
              "  <tbody>\n",
              "    <tr>\n",
              "      <th>0</th>\n",
              "      <td>Central and Southern Asia</td>\n",
              "      <td>Afghanistan</td>\n",
              "      <td>2011.0</td>\n",
              "      <td>&lt;15</td>\n",
              "      <td>female</td>\n",
              "      <td>0.176121</td>\n",
              "    </tr>\n",
              "    <tr>\n",
              "      <th>1</th>\n",
              "      <td>Central and Southern Asia</td>\n",
              "      <td>Afghanistan</td>\n",
              "      <td>2011.0</td>\n",
              "      <td>&lt;15</td>\n",
              "      <td>male</td>\n",
              "      <td>0.454171</td>\n",
              "    </tr>\n",
              "    <tr>\n",
              "      <th>2</th>\n",
              "      <td>Central and Southern Asia</td>\n",
              "      <td>Afghanistan</td>\n",
              "      <td>2011.0</td>\n",
              "      <td>15-24</td>\n",
              "      <td>female</td>\n",
              "      <td>0.321132</td>\n",
              "    </tr>\n",
              "    <tr>\n",
              "      <th>3</th>\n",
              "      <td>Central and Southern Asia</td>\n",
              "      <td>Afghanistan</td>\n",
              "      <td>2011.0</td>\n",
              "      <td>15-24</td>\n",
              "      <td>male</td>\n",
              "      <td>0.618791</td>\n",
              "    </tr>\n",
              "    <tr>\n",
              "      <th>4</th>\n",
              "      <td>Central and Southern Asia</td>\n",
              "      <td>Afghanistan</td>\n",
              "      <td>2011.0</td>\n",
              "      <td>25-64</td>\n",
              "      <td>female</td>\n",
              "      <td>0.084128</td>\n",
              "    </tr>\n",
              "  </tbody>\n",
              "</table>\n",
              "</div>\n",
              "      <button class=\"colab-df-convert\" onclick=\"convertToInteractive('df-b28a2a81-e0e6-491c-a539-1f7e8ee43e1b')\"\n",
              "              title=\"Convert this dataframe to an interactive table.\"\n",
              "              style=\"display:none;\">\n",
              "        \n",
              "  <svg xmlns=\"http://www.w3.org/2000/svg\" height=\"24px\"viewBox=\"0 0 24 24\"\n",
              "       width=\"24px\">\n",
              "    <path d=\"M0 0h24v24H0V0z\" fill=\"none\"/>\n",
              "    <path d=\"M18.56 5.44l.94 2.06.94-2.06 2.06-.94-2.06-.94-.94-2.06-.94 2.06-2.06.94zm-11 1L8.5 8.5l.94-2.06 2.06-.94-2.06-.94L8.5 2.5l-.94 2.06-2.06.94zm10 10l.94 2.06.94-2.06 2.06-.94-2.06-.94-.94-2.06-.94 2.06-2.06.94z\"/><path d=\"M17.41 7.96l-1.37-1.37c-.4-.4-.92-.59-1.43-.59-.52 0-1.04.2-1.43.59L10.3 9.45l-7.72 7.72c-.78.78-.78 2.05 0 2.83L4 21.41c.39.39.9.59 1.41.59.51 0 1.02-.2 1.41-.59l7.78-7.78 2.81-2.81c.8-.78.8-2.07 0-2.86zM5.41 20L4 18.59l7.72-7.72 1.47 1.35L5.41 20z\"/>\n",
              "  </svg>\n",
              "      </button>\n",
              "      \n",
              "  <style>\n",
              "    .colab-df-container {\n",
              "      display:flex;\n",
              "      flex-wrap:wrap;\n",
              "      gap: 12px;\n",
              "    }\n",
              "\n",
              "    .colab-df-convert {\n",
              "      background-color: #E8F0FE;\n",
              "      border: none;\n",
              "      border-radius: 50%;\n",
              "      cursor: pointer;\n",
              "      display: none;\n",
              "      fill: #1967D2;\n",
              "      height: 32px;\n",
              "      padding: 0 0 0 0;\n",
              "      width: 32px;\n",
              "    }\n",
              "\n",
              "    .colab-df-convert:hover {\n",
              "      background-color: #E2EBFA;\n",
              "      box-shadow: 0px 1px 2px rgba(60, 64, 67, 0.3), 0px 1px 3px 1px rgba(60, 64, 67, 0.15);\n",
              "      fill: #174EA6;\n",
              "    }\n",
              "\n",
              "    [theme=dark] .colab-df-convert {\n",
              "      background-color: #3B4455;\n",
              "      fill: #D2E3FC;\n",
              "    }\n",
              "\n",
              "    [theme=dark] .colab-df-convert:hover {\n",
              "      background-color: #434B5C;\n",
              "      box-shadow: 0px 1px 3px 1px rgba(0, 0, 0, 0.15);\n",
              "      filter: drop-shadow(0px 1px 2px rgba(0, 0, 0, 0.3));\n",
              "      fill: #FFFFFF;\n",
              "    }\n",
              "  </style>\n",
              "\n",
              "      <script>\n",
              "        const buttonEl =\n",
              "          document.querySelector('#df-b28a2a81-e0e6-491c-a539-1f7e8ee43e1b button.colab-df-convert');\n",
              "        buttonEl.style.display =\n",
              "          google.colab.kernel.accessAllowed ? 'block' : 'none';\n",
              "\n",
              "        async function convertToInteractive(key) {\n",
              "          const element = document.querySelector('#df-b28a2a81-e0e6-491c-a539-1f7e8ee43e1b');\n",
              "          const dataTable =\n",
              "            await google.colab.kernel.invokeFunction('convertToInteractive',\n",
              "                                                     [key], {});\n",
              "          if (!dataTable) return;\n",
              "\n",
              "          const docLinkHtml = 'Like what you see? Visit the ' +\n",
              "            '<a target=\"_blank\" href=https://colab.research.google.com/notebooks/data_table.ipynb>data table notebook</a>'\n",
              "            + ' to learn more about interactive tables.';\n",
              "          element.innerHTML = '';\n",
              "          dataTable['output_type'] = 'display_data';\n",
              "          await google.colab.output.renderOutput(dataTable, element);\n",
              "          const docLink = document.createElement('div');\n",
              "          docLink.innerHTML = docLinkHtml;\n",
              "          element.appendChild(docLink);\n",
              "        }\n",
              "      </script>\n",
              "    </div>\n",
              "  </div>\n",
              "  "
            ]
          },
          "metadata": {},
          "execution_count": 9
        }
      ]
    },
    {
      "cell_type": "markdown",
      "source": [
        "> Afghanistan is corrected, now I will fix the Region for the Country of Uzbekistan"
      ],
      "metadata": {
        "id": "4rHRtuQP2u5R"
      }
    },
    {
      "cell_type": "code",
      "source": [
        "# display dataframe entries in which the country is Uzbekistan\n",
        "df[df['Country'] == 'Uzbekistan'].tail()"
      ],
      "metadata": {
        "colab": {
          "base_uri": "https://localhost:8080/",
          "height": 206
        },
        "id": "piGkJtUP21K6",
        "outputId": "6a14218e-41db-4e74-cc45-a0a94d3ef9c7"
      },
      "execution_count": 10,
      "outputs": [
        {
          "output_type": "execute_result",
          "data": {
            "text/plain": [
              "                        Region     Country    Year    Age  Gender  \\\n",
              "309  Central and Southern Asia  Uzbekistan  2016.0  15-24    male   \n",
              "310  Central and Southern Asia  Uzbekistan  2016.0  25-64  female   \n",
              "311  Central and Southern Asia  Uzbekistan  2016.0  25-64    male   \n",
              "312                        NaN  Uzbekistan  2016.0    65+  female   \n",
              "313                        NaN  Uzbekistan  2016.0    65+    male   \n",
              "\n",
              "     Literacy rate  \n",
              "309       1.000000  \n",
              "310       1.000000  \n",
              "311       1.000000  \n",
              "312       0.996697  \n",
              "313       0.999018  "
            ],
            "text/html": [
              "\n",
              "  <div id=\"df-c459ef40-3241-4914-9499-3ea3b27e68fb\">\n",
              "    <div class=\"colab-df-container\">\n",
              "      <div>\n",
              "<style scoped>\n",
              "    .dataframe tbody tr th:only-of-type {\n",
              "        vertical-align: middle;\n",
              "    }\n",
              "\n",
              "    .dataframe tbody tr th {\n",
              "        vertical-align: top;\n",
              "    }\n",
              "\n",
              "    .dataframe thead th {\n",
              "        text-align: right;\n",
              "    }\n",
              "</style>\n",
              "<table border=\"1\" class=\"dataframe\">\n",
              "  <thead>\n",
              "    <tr style=\"text-align: right;\">\n",
              "      <th></th>\n",
              "      <th>Region</th>\n",
              "      <th>Country</th>\n",
              "      <th>Year</th>\n",
              "      <th>Age</th>\n",
              "      <th>Gender</th>\n",
              "      <th>Literacy rate</th>\n",
              "    </tr>\n",
              "  </thead>\n",
              "  <tbody>\n",
              "    <tr>\n",
              "      <th>309</th>\n",
              "      <td>Central and Southern Asia</td>\n",
              "      <td>Uzbekistan</td>\n",
              "      <td>2016.0</td>\n",
              "      <td>15-24</td>\n",
              "      <td>male</td>\n",
              "      <td>1.000000</td>\n",
              "    </tr>\n",
              "    <tr>\n",
              "      <th>310</th>\n",
              "      <td>Central and Southern Asia</td>\n",
              "      <td>Uzbekistan</td>\n",
              "      <td>2016.0</td>\n",
              "      <td>25-64</td>\n",
              "      <td>female</td>\n",
              "      <td>1.000000</td>\n",
              "    </tr>\n",
              "    <tr>\n",
              "      <th>311</th>\n",
              "      <td>Central and Southern Asia</td>\n",
              "      <td>Uzbekistan</td>\n",
              "      <td>2016.0</td>\n",
              "      <td>25-64</td>\n",
              "      <td>male</td>\n",
              "      <td>1.000000</td>\n",
              "    </tr>\n",
              "    <tr>\n",
              "      <th>312</th>\n",
              "      <td>NaN</td>\n",
              "      <td>Uzbekistan</td>\n",
              "      <td>2016.0</td>\n",
              "      <td>65+</td>\n",
              "      <td>female</td>\n",
              "      <td>0.996697</td>\n",
              "    </tr>\n",
              "    <tr>\n",
              "      <th>313</th>\n",
              "      <td>NaN</td>\n",
              "      <td>Uzbekistan</td>\n",
              "      <td>2016.0</td>\n",
              "      <td>65+</td>\n",
              "      <td>male</td>\n",
              "      <td>0.999018</td>\n",
              "    </tr>\n",
              "  </tbody>\n",
              "</table>\n",
              "</div>\n",
              "      <button class=\"colab-df-convert\" onclick=\"convertToInteractive('df-c459ef40-3241-4914-9499-3ea3b27e68fb')\"\n",
              "              title=\"Convert this dataframe to an interactive table.\"\n",
              "              style=\"display:none;\">\n",
              "        \n",
              "  <svg xmlns=\"http://www.w3.org/2000/svg\" height=\"24px\"viewBox=\"0 0 24 24\"\n",
              "       width=\"24px\">\n",
              "    <path d=\"M0 0h24v24H0V0z\" fill=\"none\"/>\n",
              "    <path d=\"M18.56 5.44l.94 2.06.94-2.06 2.06-.94-2.06-.94-.94-2.06-.94 2.06-2.06.94zm-11 1L8.5 8.5l.94-2.06 2.06-.94-2.06-.94L8.5 2.5l-.94 2.06-2.06.94zm10 10l.94 2.06.94-2.06 2.06-.94-2.06-.94-.94-2.06-.94 2.06-2.06.94z\"/><path d=\"M17.41 7.96l-1.37-1.37c-.4-.4-.92-.59-1.43-.59-.52 0-1.04.2-1.43.59L10.3 9.45l-7.72 7.72c-.78.78-.78 2.05 0 2.83L4 21.41c.39.39.9.59 1.41.59.51 0 1.02-.2 1.41-.59l7.78-7.78 2.81-2.81c.8-.78.8-2.07 0-2.86zM5.41 20L4 18.59l7.72-7.72 1.47 1.35L5.41 20z\"/>\n",
              "  </svg>\n",
              "      </button>\n",
              "      \n",
              "  <style>\n",
              "    .colab-df-container {\n",
              "      display:flex;\n",
              "      flex-wrap:wrap;\n",
              "      gap: 12px;\n",
              "    }\n",
              "\n",
              "    .colab-df-convert {\n",
              "      background-color: #E8F0FE;\n",
              "      border: none;\n",
              "      border-radius: 50%;\n",
              "      cursor: pointer;\n",
              "      display: none;\n",
              "      fill: #1967D2;\n",
              "      height: 32px;\n",
              "      padding: 0 0 0 0;\n",
              "      width: 32px;\n",
              "    }\n",
              "\n",
              "    .colab-df-convert:hover {\n",
              "      background-color: #E2EBFA;\n",
              "      box-shadow: 0px 1px 2px rgba(60, 64, 67, 0.3), 0px 1px 3px 1px rgba(60, 64, 67, 0.15);\n",
              "      fill: #174EA6;\n",
              "    }\n",
              "\n",
              "    [theme=dark] .colab-df-convert {\n",
              "      background-color: #3B4455;\n",
              "      fill: #D2E3FC;\n",
              "    }\n",
              "\n",
              "    [theme=dark] .colab-df-convert:hover {\n",
              "      background-color: #434B5C;\n",
              "      box-shadow: 0px 1px 3px 1px rgba(0, 0, 0, 0.15);\n",
              "      filter: drop-shadow(0px 1px 2px rgba(0, 0, 0, 0.3));\n",
              "      fill: #FFFFFF;\n",
              "    }\n",
              "  </style>\n",
              "\n",
              "      <script>\n",
              "        const buttonEl =\n",
              "          document.querySelector('#df-c459ef40-3241-4914-9499-3ea3b27e68fb button.colab-df-convert');\n",
              "        buttonEl.style.display =\n",
              "          google.colab.kernel.accessAllowed ? 'block' : 'none';\n",
              "\n",
              "        async function convertToInteractive(key) {\n",
              "          const element = document.querySelector('#df-c459ef40-3241-4914-9499-3ea3b27e68fb');\n",
              "          const dataTable =\n",
              "            await google.colab.kernel.invokeFunction('convertToInteractive',\n",
              "                                                     [key], {});\n",
              "          if (!dataTable) return;\n",
              "\n",
              "          const docLinkHtml = 'Like what you see? Visit the ' +\n",
              "            '<a target=\"_blank\" href=https://colab.research.google.com/notebooks/data_table.ipynb>data table notebook</a>'\n",
              "            + ' to learn more about interactive tables.';\n",
              "          element.innerHTML = '';\n",
              "          dataTable['output_type'] = 'display_data';\n",
              "          await google.colab.output.renderOutput(dataTable, element);\n",
              "          const docLink = document.createElement('div');\n",
              "          docLink.innerHTML = docLinkHtml;\n",
              "          element.appendChild(docLink);\n",
              "        }\n",
              "      </script>\n",
              "    </div>\n",
              "  </div>\n",
              "  "
            ]
          },
          "metadata": {},
          "execution_count": 10
        }
      ]
    },
    {
      "cell_type": "markdown",
      "source": [
        "> Uzbekistan is also located in Central and Southern Asia."
      ],
      "metadata": {
        "id": "72KK2itk29uh"
      }
    },
    {
      "cell_type": "code",
      "source": [
        "# Change region for Uzbekistan to Central and Southern Asia\n",
        "df.loc[df['Country'] == 'Uzbekistan', 'Region'] = 'Central and Southern Asia'\n",
        "\n",
        "# Check that it was changed by looking at dataframe entries for Uzbekistan\n",
        "df[df['Country'] == 'Uzbekistan'].tail()"
      ],
      "metadata": {
        "colab": {
          "base_uri": "https://localhost:8080/",
          "height": 206
        },
        "id": "obxFnDRq3DpR",
        "outputId": "dc70e56b-6702-4308-9d71-196f4d39d2df"
      },
      "execution_count": 11,
      "outputs": [
        {
          "output_type": "execute_result",
          "data": {
            "text/plain": [
              "                        Region     Country    Year    Age  Gender  \\\n",
              "309  Central and Southern Asia  Uzbekistan  2016.0  15-24    male   \n",
              "310  Central and Southern Asia  Uzbekistan  2016.0  25-64  female   \n",
              "311  Central and Southern Asia  Uzbekistan  2016.0  25-64    male   \n",
              "312  Central and Southern Asia  Uzbekistan  2016.0    65+  female   \n",
              "313  Central and Southern Asia  Uzbekistan  2016.0    65+    male   \n",
              "\n",
              "     Literacy rate  \n",
              "309       1.000000  \n",
              "310       1.000000  \n",
              "311       1.000000  \n",
              "312       0.996697  \n",
              "313       0.999018  "
            ],
            "text/html": [
              "\n",
              "  <div id=\"df-40ebc0cd-0929-4e51-b4f5-ecd9914d4d54\">\n",
              "    <div class=\"colab-df-container\">\n",
              "      <div>\n",
              "<style scoped>\n",
              "    .dataframe tbody tr th:only-of-type {\n",
              "        vertical-align: middle;\n",
              "    }\n",
              "\n",
              "    .dataframe tbody tr th {\n",
              "        vertical-align: top;\n",
              "    }\n",
              "\n",
              "    .dataframe thead th {\n",
              "        text-align: right;\n",
              "    }\n",
              "</style>\n",
              "<table border=\"1\" class=\"dataframe\">\n",
              "  <thead>\n",
              "    <tr style=\"text-align: right;\">\n",
              "      <th></th>\n",
              "      <th>Region</th>\n",
              "      <th>Country</th>\n",
              "      <th>Year</th>\n",
              "      <th>Age</th>\n",
              "      <th>Gender</th>\n",
              "      <th>Literacy rate</th>\n",
              "    </tr>\n",
              "  </thead>\n",
              "  <tbody>\n",
              "    <tr>\n",
              "      <th>309</th>\n",
              "      <td>Central and Southern Asia</td>\n",
              "      <td>Uzbekistan</td>\n",
              "      <td>2016.0</td>\n",
              "      <td>15-24</td>\n",
              "      <td>male</td>\n",
              "      <td>1.000000</td>\n",
              "    </tr>\n",
              "    <tr>\n",
              "      <th>310</th>\n",
              "      <td>Central and Southern Asia</td>\n",
              "      <td>Uzbekistan</td>\n",
              "      <td>2016.0</td>\n",
              "      <td>25-64</td>\n",
              "      <td>female</td>\n",
              "      <td>1.000000</td>\n",
              "    </tr>\n",
              "    <tr>\n",
              "      <th>311</th>\n",
              "      <td>Central and Southern Asia</td>\n",
              "      <td>Uzbekistan</td>\n",
              "      <td>2016.0</td>\n",
              "      <td>25-64</td>\n",
              "      <td>male</td>\n",
              "      <td>1.000000</td>\n",
              "    </tr>\n",
              "    <tr>\n",
              "      <th>312</th>\n",
              "      <td>Central and Southern Asia</td>\n",
              "      <td>Uzbekistan</td>\n",
              "      <td>2016.0</td>\n",
              "      <td>65+</td>\n",
              "      <td>female</td>\n",
              "      <td>0.996697</td>\n",
              "    </tr>\n",
              "    <tr>\n",
              "      <th>313</th>\n",
              "      <td>Central and Southern Asia</td>\n",
              "      <td>Uzbekistan</td>\n",
              "      <td>2016.0</td>\n",
              "      <td>65+</td>\n",
              "      <td>male</td>\n",
              "      <td>0.999018</td>\n",
              "    </tr>\n",
              "  </tbody>\n",
              "</table>\n",
              "</div>\n",
              "      <button class=\"colab-df-convert\" onclick=\"convertToInteractive('df-40ebc0cd-0929-4e51-b4f5-ecd9914d4d54')\"\n",
              "              title=\"Convert this dataframe to an interactive table.\"\n",
              "              style=\"display:none;\">\n",
              "        \n",
              "  <svg xmlns=\"http://www.w3.org/2000/svg\" height=\"24px\"viewBox=\"0 0 24 24\"\n",
              "       width=\"24px\">\n",
              "    <path d=\"M0 0h24v24H0V0z\" fill=\"none\"/>\n",
              "    <path d=\"M18.56 5.44l.94 2.06.94-2.06 2.06-.94-2.06-.94-.94-2.06-.94 2.06-2.06.94zm-11 1L8.5 8.5l.94-2.06 2.06-.94-2.06-.94L8.5 2.5l-.94 2.06-2.06.94zm10 10l.94 2.06.94-2.06 2.06-.94-2.06-.94-.94-2.06-.94 2.06-2.06.94z\"/><path d=\"M17.41 7.96l-1.37-1.37c-.4-.4-.92-.59-1.43-.59-.52 0-1.04.2-1.43.59L10.3 9.45l-7.72 7.72c-.78.78-.78 2.05 0 2.83L4 21.41c.39.39.9.59 1.41.59.51 0 1.02-.2 1.41-.59l7.78-7.78 2.81-2.81c.8-.78.8-2.07 0-2.86zM5.41 20L4 18.59l7.72-7.72 1.47 1.35L5.41 20z\"/>\n",
              "  </svg>\n",
              "      </button>\n",
              "      \n",
              "  <style>\n",
              "    .colab-df-container {\n",
              "      display:flex;\n",
              "      flex-wrap:wrap;\n",
              "      gap: 12px;\n",
              "    }\n",
              "\n",
              "    .colab-df-convert {\n",
              "      background-color: #E8F0FE;\n",
              "      border: none;\n",
              "      border-radius: 50%;\n",
              "      cursor: pointer;\n",
              "      display: none;\n",
              "      fill: #1967D2;\n",
              "      height: 32px;\n",
              "      padding: 0 0 0 0;\n",
              "      width: 32px;\n",
              "    }\n",
              "\n",
              "    .colab-df-convert:hover {\n",
              "      background-color: #E2EBFA;\n",
              "      box-shadow: 0px 1px 2px rgba(60, 64, 67, 0.3), 0px 1px 3px 1px rgba(60, 64, 67, 0.15);\n",
              "      fill: #174EA6;\n",
              "    }\n",
              "\n",
              "    [theme=dark] .colab-df-convert {\n",
              "      background-color: #3B4455;\n",
              "      fill: #D2E3FC;\n",
              "    }\n",
              "\n",
              "    [theme=dark] .colab-df-convert:hover {\n",
              "      background-color: #434B5C;\n",
              "      box-shadow: 0px 1px 3px 1px rgba(0, 0, 0, 0.15);\n",
              "      filter: drop-shadow(0px 1px 2px rgba(0, 0, 0, 0.3));\n",
              "      fill: #FFFFFF;\n",
              "    }\n",
              "  </style>\n",
              "\n",
              "      <script>\n",
              "        const buttonEl =\n",
              "          document.querySelector('#df-40ebc0cd-0929-4e51-b4f5-ecd9914d4d54 button.colab-df-convert');\n",
              "        buttonEl.style.display =\n",
              "          google.colab.kernel.accessAllowed ? 'block' : 'none';\n",
              "\n",
              "        async function convertToInteractive(key) {\n",
              "          const element = document.querySelector('#df-40ebc0cd-0929-4e51-b4f5-ecd9914d4d54');\n",
              "          const dataTable =\n",
              "            await google.colab.kernel.invokeFunction('convertToInteractive',\n",
              "                                                     [key], {});\n",
              "          if (!dataTable) return;\n",
              "\n",
              "          const docLinkHtml = 'Like what you see? Visit the ' +\n",
              "            '<a target=\"_blank\" href=https://colab.research.google.com/notebooks/data_table.ipynb>data table notebook</a>'\n",
              "            + ' to learn more about interactive tables.';\n",
              "          element.innerHTML = '';\n",
              "          dataTable['output_type'] = 'display_data';\n",
              "          await google.colab.output.renderOutput(dataTable, element);\n",
              "          const docLink = document.createElement('div');\n",
              "          docLink.innerHTML = docLinkHtml;\n",
              "          element.appendChild(docLink);\n",
              "        }\n",
              "      </script>\n",
              "    </div>\n",
              "  </div>\n",
              "  "
            ]
          },
          "metadata": {},
          "execution_count": 11
        }
      ]
    },
    {
      "cell_type": "markdown",
      "source": [
        "> The two missing values for Uzbekistan have been changed, now I will check the sum of missing values for the region column to see if they have all been fixed."
      ],
      "metadata": {
        "id": "q2Z5Fmgl3Om5"
      }
    },
    {
      "cell_type": "code",
      "source": [
        "df.isna().sum()"
      ],
      "metadata": {
        "colab": {
          "base_uri": "https://localhost:8080/"
        },
        "id": "L4otTJey3WQJ",
        "outputId": "3f4c354d-7f8d-4883-fd75-26d1dd6ab45d"
      },
      "execution_count": 12,
      "outputs": [
        {
          "output_type": "execute_result",
          "data": {
            "text/plain": [
              "Region           0\n",
              "Country          0\n",
              "Year             0\n",
              "Age              0\n",
              "Gender           0\n",
              "Literacy rate    5\n",
              "dtype: int64"
            ]
          },
          "metadata": {},
          "execution_count": 12
        }
      ]
    },
    {
      "cell_type": "markdown",
      "source": [
        "> All missing values in the region column have been filled in."
      ],
      "metadata": {
        "id": "tPzgjSXt3Yt5"
      }
    },
    {
      "cell_type": "markdown",
      "source": [
        "#### Missing values in Literacy rate Column"
      ],
      "metadata": {
        "id": "rEWFW3oe3fyp"
      }
    },
    {
      "cell_type": "code",
      "source": [
        "# Look at dataframe entries with missing values in the literacy rate column\n",
        "df[df['Literacy rate'].isna()]"
      ],
      "metadata": {
        "colab": {
          "base_uri": "https://localhost:8080/",
          "height": 206
        },
        "id": "Gc1ItWV_4Ws_",
        "outputId": "01f09a21-ae48-4414-951b-68b166a69f9b"
      },
      "execution_count": 13,
      "outputs": [
        {
          "output_type": "execute_result",
          "data": {
            "text/plain": [
              "                             Region    Country    Year    Age  Gender  \\\n",
              "498  Eastern and South-Eastern Asia  Singapore  2010.0    65+    male   \n",
              "608     Europe and Northern America    Albania  2012.0  15-24  female   \n",
              "753     Europe and Northern America   Portugal  2011.0  15-24    male   \n",
              "855     Europe and Northern America      Spain  2010.0    <15  female   \n",
              "884     Europe and Northern America      Spain  2013.0  25-64    male   \n",
              "\n",
              "     Literacy rate  \n",
              "498            NaN  \n",
              "608            NaN  \n",
              "753            NaN  \n",
              "855            NaN  \n",
              "884            NaN  "
            ],
            "text/html": [
              "\n",
              "  <div id=\"df-57087e3f-d90c-4c0c-97e8-764cf5d57ae6\">\n",
              "    <div class=\"colab-df-container\">\n",
              "      <div>\n",
              "<style scoped>\n",
              "    .dataframe tbody tr th:only-of-type {\n",
              "        vertical-align: middle;\n",
              "    }\n",
              "\n",
              "    .dataframe tbody tr th {\n",
              "        vertical-align: top;\n",
              "    }\n",
              "\n",
              "    .dataframe thead th {\n",
              "        text-align: right;\n",
              "    }\n",
              "</style>\n",
              "<table border=\"1\" class=\"dataframe\">\n",
              "  <thead>\n",
              "    <tr style=\"text-align: right;\">\n",
              "      <th></th>\n",
              "      <th>Region</th>\n",
              "      <th>Country</th>\n",
              "      <th>Year</th>\n",
              "      <th>Age</th>\n",
              "      <th>Gender</th>\n",
              "      <th>Literacy rate</th>\n",
              "    </tr>\n",
              "  </thead>\n",
              "  <tbody>\n",
              "    <tr>\n",
              "      <th>498</th>\n",
              "      <td>Eastern and South-Eastern Asia</td>\n",
              "      <td>Singapore</td>\n",
              "      <td>2010.0</td>\n",
              "      <td>65+</td>\n",
              "      <td>male</td>\n",
              "      <td>NaN</td>\n",
              "    </tr>\n",
              "    <tr>\n",
              "      <th>608</th>\n",
              "      <td>Europe and Northern America</td>\n",
              "      <td>Albania</td>\n",
              "      <td>2012.0</td>\n",
              "      <td>15-24</td>\n",
              "      <td>female</td>\n",
              "      <td>NaN</td>\n",
              "    </tr>\n",
              "    <tr>\n",
              "      <th>753</th>\n",
              "      <td>Europe and Northern America</td>\n",
              "      <td>Portugal</td>\n",
              "      <td>2011.0</td>\n",
              "      <td>15-24</td>\n",
              "      <td>male</td>\n",
              "      <td>NaN</td>\n",
              "    </tr>\n",
              "    <tr>\n",
              "      <th>855</th>\n",
              "      <td>Europe and Northern America</td>\n",
              "      <td>Spain</td>\n",
              "      <td>2010.0</td>\n",
              "      <td>&lt;15</td>\n",
              "      <td>female</td>\n",
              "      <td>NaN</td>\n",
              "    </tr>\n",
              "    <tr>\n",
              "      <th>884</th>\n",
              "      <td>Europe and Northern America</td>\n",
              "      <td>Spain</td>\n",
              "      <td>2013.0</td>\n",
              "      <td>25-64</td>\n",
              "      <td>male</td>\n",
              "      <td>NaN</td>\n",
              "    </tr>\n",
              "  </tbody>\n",
              "</table>\n",
              "</div>\n",
              "      <button class=\"colab-df-convert\" onclick=\"convertToInteractive('df-57087e3f-d90c-4c0c-97e8-764cf5d57ae6')\"\n",
              "              title=\"Convert this dataframe to an interactive table.\"\n",
              "              style=\"display:none;\">\n",
              "        \n",
              "  <svg xmlns=\"http://www.w3.org/2000/svg\" height=\"24px\"viewBox=\"0 0 24 24\"\n",
              "       width=\"24px\">\n",
              "    <path d=\"M0 0h24v24H0V0z\" fill=\"none\"/>\n",
              "    <path d=\"M18.56 5.44l.94 2.06.94-2.06 2.06-.94-2.06-.94-.94-2.06-.94 2.06-2.06.94zm-11 1L8.5 8.5l.94-2.06 2.06-.94-2.06-.94L8.5 2.5l-.94 2.06-2.06.94zm10 10l.94 2.06.94-2.06 2.06-.94-2.06-.94-.94-2.06-.94 2.06-2.06.94z\"/><path d=\"M17.41 7.96l-1.37-1.37c-.4-.4-.92-.59-1.43-.59-.52 0-1.04.2-1.43.59L10.3 9.45l-7.72 7.72c-.78.78-.78 2.05 0 2.83L4 21.41c.39.39.9.59 1.41.59.51 0 1.02-.2 1.41-.59l7.78-7.78 2.81-2.81c.8-.78.8-2.07 0-2.86zM5.41 20L4 18.59l7.72-7.72 1.47 1.35L5.41 20z\"/>\n",
              "  </svg>\n",
              "      </button>\n",
              "      \n",
              "  <style>\n",
              "    .colab-df-container {\n",
              "      display:flex;\n",
              "      flex-wrap:wrap;\n",
              "      gap: 12px;\n",
              "    }\n",
              "\n",
              "    .colab-df-convert {\n",
              "      background-color: #E8F0FE;\n",
              "      border: none;\n",
              "      border-radius: 50%;\n",
              "      cursor: pointer;\n",
              "      display: none;\n",
              "      fill: #1967D2;\n",
              "      height: 32px;\n",
              "      padding: 0 0 0 0;\n",
              "      width: 32px;\n",
              "    }\n",
              "\n",
              "    .colab-df-convert:hover {\n",
              "      background-color: #E2EBFA;\n",
              "      box-shadow: 0px 1px 2px rgba(60, 64, 67, 0.3), 0px 1px 3px 1px rgba(60, 64, 67, 0.15);\n",
              "      fill: #174EA6;\n",
              "    }\n",
              "\n",
              "    [theme=dark] .colab-df-convert {\n",
              "      background-color: #3B4455;\n",
              "      fill: #D2E3FC;\n",
              "    }\n",
              "\n",
              "    [theme=dark] .colab-df-convert:hover {\n",
              "      background-color: #434B5C;\n",
              "      box-shadow: 0px 1px 3px 1px rgba(0, 0, 0, 0.15);\n",
              "      filter: drop-shadow(0px 1px 2px rgba(0, 0, 0, 0.3));\n",
              "      fill: #FFFFFF;\n",
              "    }\n",
              "  </style>\n",
              "\n",
              "      <script>\n",
              "        const buttonEl =\n",
              "          document.querySelector('#df-57087e3f-d90c-4c0c-97e8-764cf5d57ae6 button.colab-df-convert');\n",
              "        buttonEl.style.display =\n",
              "          google.colab.kernel.accessAllowed ? 'block' : 'none';\n",
              "\n",
              "        async function convertToInteractive(key) {\n",
              "          const element = document.querySelector('#df-57087e3f-d90c-4c0c-97e8-764cf5d57ae6');\n",
              "          const dataTable =\n",
              "            await google.colab.kernel.invokeFunction('convertToInteractive',\n",
              "                                                     [key], {});\n",
              "          if (!dataTable) return;\n",
              "\n",
              "          const docLinkHtml = 'Like what you see? Visit the ' +\n",
              "            '<a target=\"_blank\" href=https://colab.research.google.com/notebooks/data_table.ipynb>data table notebook</a>'\n",
              "            + ' to learn more about interactive tables.';\n",
              "          element.innerHTML = '';\n",
              "          dataTable['output_type'] = 'display_data';\n",
              "          await google.colab.output.renderOutput(dataTable, element);\n",
              "          const docLink = document.createElement('div');\n",
              "          docLink.innerHTML = docLinkHtml;\n",
              "          element.appendChild(docLink);\n",
              "        }\n",
              "      </script>\n",
              "    </div>\n",
              "  </div>\n",
              "  "
            ]
          },
          "metadata": {},
          "execution_count": 13
        }
      ]
    },
    {
      "cell_type": "markdown",
      "source": [
        "> Our missing values in the literacy rate column are in the regions of 'Easterna dn South-Eastern Asia' and 'Europe and Northern America'."
      ],
      "metadata": {
        "id": "NSmJl2EA4gFJ"
      }
    },
    {
      "cell_type": "code",
      "source": [
        "# Look at all info for the literacy rate based on region\n",
        "df.groupby('Region')['Literacy rate'].describe()"
      ],
      "metadata": {
        "colab": {
          "base_uri": "https://localhost:8080/",
          "height": 300
        },
        "id": "my1Ebhe-3is8",
        "outputId": "56f9963b-568c-4a9a-d155-af50950d3ac2"
      },
      "execution_count": 14,
      "outputs": [
        {
          "output_type": "execute_result",
          "data": {
            "text/plain": [
              "                                  count      mean       std       min  \\\n",
              "Region                                                                  \n",
              "Central and Southern Asia         311.0  0.717900  0.274469  0.034743   \n",
              "Eastern and South-Eastern Asia    281.0  0.882885  0.172738  0.077059   \n",
              "Europe and Northern America       332.0  0.979203  0.033957  0.754773   \n",
              "Latin America and the Caribbean   940.0  0.906831  0.115190  0.102378   \n",
              "Northern Africa and Western Asia  568.0  0.851056  0.212635  0.092194   \n",
              "Oceania                            96.0  0.911860  0.158227  0.268000   \n",
              "Sub-Saharan Africa                770.0  0.617746  0.272016  0.004025   \n",
              "\n",
              "                                       25%       50%       75%       max  \n",
              "Region                                                                    \n",
              "Central and Southern Asia         0.527591  0.793692  0.981531  1.000000  \n",
              "Eastern and South-Eastern Asia    0.846505  0.959194  0.984665  0.999424  \n",
              "Europe and Northern America       0.980021  0.991000  0.996762  1.000000  \n",
              "Latin America and the Caribbean   0.879480  0.949638  0.984031  0.999200  \n",
              "Northern Africa and Western Asia  0.799950  0.955313  0.990015  0.999896  \n",
              "Oceania                           0.919811  0.985945  0.993087  0.998295  \n",
              "Sub-Saharan Africa                0.408326  0.676226  0.857407  0.996000  "
            ],
            "text/html": [
              "\n",
              "  <div id=\"df-30751412-89fc-4aed-b999-955dd6b30eec\">\n",
              "    <div class=\"colab-df-container\">\n",
              "      <div>\n",
              "<style scoped>\n",
              "    .dataframe tbody tr th:only-of-type {\n",
              "        vertical-align: middle;\n",
              "    }\n",
              "\n",
              "    .dataframe tbody tr th {\n",
              "        vertical-align: top;\n",
              "    }\n",
              "\n",
              "    .dataframe thead th {\n",
              "        text-align: right;\n",
              "    }\n",
              "</style>\n",
              "<table border=\"1\" class=\"dataframe\">\n",
              "  <thead>\n",
              "    <tr style=\"text-align: right;\">\n",
              "      <th></th>\n",
              "      <th>count</th>\n",
              "      <th>mean</th>\n",
              "      <th>std</th>\n",
              "      <th>min</th>\n",
              "      <th>25%</th>\n",
              "      <th>50%</th>\n",
              "      <th>75%</th>\n",
              "      <th>max</th>\n",
              "    </tr>\n",
              "    <tr>\n",
              "      <th>Region</th>\n",
              "      <th></th>\n",
              "      <th></th>\n",
              "      <th></th>\n",
              "      <th></th>\n",
              "      <th></th>\n",
              "      <th></th>\n",
              "      <th></th>\n",
              "      <th></th>\n",
              "    </tr>\n",
              "  </thead>\n",
              "  <tbody>\n",
              "    <tr>\n",
              "      <th>Central and Southern Asia</th>\n",
              "      <td>311.0</td>\n",
              "      <td>0.717900</td>\n",
              "      <td>0.274469</td>\n",
              "      <td>0.034743</td>\n",
              "      <td>0.527591</td>\n",
              "      <td>0.793692</td>\n",
              "      <td>0.981531</td>\n",
              "      <td>1.000000</td>\n",
              "    </tr>\n",
              "    <tr>\n",
              "      <th>Eastern and South-Eastern Asia</th>\n",
              "      <td>281.0</td>\n",
              "      <td>0.882885</td>\n",
              "      <td>0.172738</td>\n",
              "      <td>0.077059</td>\n",
              "      <td>0.846505</td>\n",
              "      <td>0.959194</td>\n",
              "      <td>0.984665</td>\n",
              "      <td>0.999424</td>\n",
              "    </tr>\n",
              "    <tr>\n",
              "      <th>Europe and Northern America</th>\n",
              "      <td>332.0</td>\n",
              "      <td>0.979203</td>\n",
              "      <td>0.033957</td>\n",
              "      <td>0.754773</td>\n",
              "      <td>0.980021</td>\n",
              "      <td>0.991000</td>\n",
              "      <td>0.996762</td>\n",
              "      <td>1.000000</td>\n",
              "    </tr>\n",
              "    <tr>\n",
              "      <th>Latin America and the Caribbean</th>\n",
              "      <td>940.0</td>\n",
              "      <td>0.906831</td>\n",
              "      <td>0.115190</td>\n",
              "      <td>0.102378</td>\n",
              "      <td>0.879480</td>\n",
              "      <td>0.949638</td>\n",
              "      <td>0.984031</td>\n",
              "      <td>0.999200</td>\n",
              "    </tr>\n",
              "    <tr>\n",
              "      <th>Northern Africa and Western Asia</th>\n",
              "      <td>568.0</td>\n",
              "      <td>0.851056</td>\n",
              "      <td>0.212635</td>\n",
              "      <td>0.092194</td>\n",
              "      <td>0.799950</td>\n",
              "      <td>0.955313</td>\n",
              "      <td>0.990015</td>\n",
              "      <td>0.999896</td>\n",
              "    </tr>\n",
              "    <tr>\n",
              "      <th>Oceania</th>\n",
              "      <td>96.0</td>\n",
              "      <td>0.911860</td>\n",
              "      <td>0.158227</td>\n",
              "      <td>0.268000</td>\n",
              "      <td>0.919811</td>\n",
              "      <td>0.985945</td>\n",
              "      <td>0.993087</td>\n",
              "      <td>0.998295</td>\n",
              "    </tr>\n",
              "    <tr>\n",
              "      <th>Sub-Saharan Africa</th>\n",
              "      <td>770.0</td>\n",
              "      <td>0.617746</td>\n",
              "      <td>0.272016</td>\n",
              "      <td>0.004025</td>\n",
              "      <td>0.408326</td>\n",
              "      <td>0.676226</td>\n",
              "      <td>0.857407</td>\n",
              "      <td>0.996000</td>\n",
              "    </tr>\n",
              "  </tbody>\n",
              "</table>\n",
              "</div>\n",
              "      <button class=\"colab-df-convert\" onclick=\"convertToInteractive('df-30751412-89fc-4aed-b999-955dd6b30eec')\"\n",
              "              title=\"Convert this dataframe to an interactive table.\"\n",
              "              style=\"display:none;\">\n",
              "        \n",
              "  <svg xmlns=\"http://www.w3.org/2000/svg\" height=\"24px\"viewBox=\"0 0 24 24\"\n",
              "       width=\"24px\">\n",
              "    <path d=\"M0 0h24v24H0V0z\" fill=\"none\"/>\n",
              "    <path d=\"M18.56 5.44l.94 2.06.94-2.06 2.06-.94-2.06-.94-.94-2.06-.94 2.06-2.06.94zm-11 1L8.5 8.5l.94-2.06 2.06-.94-2.06-.94L8.5 2.5l-.94 2.06-2.06.94zm10 10l.94 2.06.94-2.06 2.06-.94-2.06-.94-.94-2.06-.94 2.06-2.06.94z\"/><path d=\"M17.41 7.96l-1.37-1.37c-.4-.4-.92-.59-1.43-.59-.52 0-1.04.2-1.43.59L10.3 9.45l-7.72 7.72c-.78.78-.78 2.05 0 2.83L4 21.41c.39.39.9.59 1.41.59.51 0 1.02-.2 1.41-.59l7.78-7.78 2.81-2.81c.8-.78.8-2.07 0-2.86zM5.41 20L4 18.59l7.72-7.72 1.47 1.35L5.41 20z\"/>\n",
              "  </svg>\n",
              "      </button>\n",
              "      \n",
              "  <style>\n",
              "    .colab-df-container {\n",
              "      display:flex;\n",
              "      flex-wrap:wrap;\n",
              "      gap: 12px;\n",
              "    }\n",
              "\n",
              "    .colab-df-convert {\n",
              "      background-color: #E8F0FE;\n",
              "      border: none;\n",
              "      border-radius: 50%;\n",
              "      cursor: pointer;\n",
              "      display: none;\n",
              "      fill: #1967D2;\n",
              "      height: 32px;\n",
              "      padding: 0 0 0 0;\n",
              "      width: 32px;\n",
              "    }\n",
              "\n",
              "    .colab-df-convert:hover {\n",
              "      background-color: #E2EBFA;\n",
              "      box-shadow: 0px 1px 2px rgba(60, 64, 67, 0.3), 0px 1px 3px 1px rgba(60, 64, 67, 0.15);\n",
              "      fill: #174EA6;\n",
              "    }\n",
              "\n",
              "    [theme=dark] .colab-df-convert {\n",
              "      background-color: #3B4455;\n",
              "      fill: #D2E3FC;\n",
              "    }\n",
              "\n",
              "    [theme=dark] .colab-df-convert:hover {\n",
              "      background-color: #434B5C;\n",
              "      box-shadow: 0px 1px 3px 1px rgba(0, 0, 0, 0.15);\n",
              "      filter: drop-shadow(0px 1px 2px rgba(0, 0, 0, 0.3));\n",
              "      fill: #FFFFFF;\n",
              "    }\n",
              "  </style>\n",
              "\n",
              "      <script>\n",
              "        const buttonEl =\n",
              "          document.querySelector('#df-30751412-89fc-4aed-b999-955dd6b30eec button.colab-df-convert');\n",
              "        buttonEl.style.display =\n",
              "          google.colab.kernel.accessAllowed ? 'block' : 'none';\n",
              "\n",
              "        async function convertToInteractive(key) {\n",
              "          const element = document.querySelector('#df-30751412-89fc-4aed-b999-955dd6b30eec');\n",
              "          const dataTable =\n",
              "            await google.colab.kernel.invokeFunction('convertToInteractive',\n",
              "                                                     [key], {});\n",
              "          if (!dataTable) return;\n",
              "\n",
              "          const docLinkHtml = 'Like what you see? Visit the ' +\n",
              "            '<a target=\"_blank\" href=https://colab.research.google.com/notebooks/data_table.ipynb>data table notebook</a>'\n",
              "            + ' to learn more about interactive tables.';\n",
              "          element.innerHTML = '';\n",
              "          dataTable['output_type'] = 'display_data';\n",
              "          await google.colab.output.renderOutput(dataTable, element);\n",
              "          const docLink = document.createElement('div');\n",
              "          docLink.innerHTML = docLinkHtml;\n",
              "          element.appendChild(docLink);\n",
              "        }\n",
              "      </script>\n",
              "    </div>\n",
              "  </div>\n",
              "  "
            ]
          },
          "metadata": {},
          "execution_count": 14
        }
      ]
    },
    {
      "cell_type": "markdown",
      "source": [
        "> I can use the mean values for the two regions with missing literacy rates to fill in the missing values."
      ],
      "metadata": {
        "id": "IPEgW5zi4tWZ"
      }
    },
    {
      "cell_type": "code",
      "source": [
        "# Create filter to find missing values in eastern and south eastern asia region\n",
        "asia_filter = df['Region'] == 'Eastern and South-Eastern Asia'\n",
        "# Save mean literacy rate for eastern and south eastern asia region\n",
        "asia_mean = df.loc[asia_filter, 'Literacy rate'].mean()\n",
        "\n",
        "# Change literacy rate missing values for Eastern and South-Eastern Asia to mean value\n",
        "df.loc[df['Region'] == 'Eastern and South-Eastern Asia', 'Literacy rate'] = asia_mean\n",
        "\n",
        "# Check that it was changed by looking at dataframe entries for Afghanistan\n",
        "df[df['Region'] == 'Eastern and South-Eastern Asia'].isna().sum()"
      ],
      "metadata": {
        "colab": {
          "base_uri": "https://localhost:8080/"
        },
        "id": "g6dvPA3j40OG",
        "outputId": "0964f05d-db6a-4b88-b445-29a8513b5f54"
      },
      "execution_count": 15,
      "outputs": [
        {
          "output_type": "execute_result",
          "data": {
            "text/plain": [
              "Region           0\n",
              "Country          0\n",
              "Year             0\n",
              "Age              0\n",
              "Gender           0\n",
              "Literacy rate    0\n",
              "dtype: int64"
            ]
          },
          "metadata": {},
          "execution_count": 15
        }
      ]
    },
    {
      "cell_type": "markdown",
      "source": [
        "> Literacy rate missing value for the Eastern and South-Eastern Asia region has been changed successfully. Now I will do the same for the missing values in the Europe and North American Region."
      ],
      "metadata": {
        "id": "ugDIZDWW7dgh"
      }
    },
    {
      "cell_type": "code",
      "source": [
        "# Create filter to find missing values in Europe and Northern America region\n",
        "europe_filter = df['Region'] == 'Europe and Northern America'\n",
        "# Save mean literacy rate for eastern and south eastern asia region\n",
        "europe_mean = df.loc[europe_filter, 'Literacy rate'].mean()\n",
        "\n",
        "# Change literacy rate missing values for Eastern and South-Eastern Asia to mean value\n",
        "df.loc[df['Region'] == 'Europe and Northern America', 'Literacy rate'] = europe_mean\n",
        "\n",
        "# Check that it was changed by looking at dataframe entries for Afghanistan\n",
        "df[df['Region'] == 'Europe and Northern America'].isna().sum()"
      ],
      "metadata": {
        "colab": {
          "base_uri": "https://localhost:8080/"
        },
        "id": "3z-YY6-17qs5",
        "outputId": "b1d54bbd-333a-4dce-c344-70ea26822679"
      },
      "execution_count": 16,
      "outputs": [
        {
          "output_type": "execute_result",
          "data": {
            "text/plain": [
              "Region           0\n",
              "Country          0\n",
              "Year             0\n",
              "Age              0\n",
              "Gender           0\n",
              "Literacy rate    0\n",
              "dtype: int64"
            ]
          },
          "metadata": {},
          "execution_count": 16
        }
      ]
    },
    {
      "cell_type": "markdown",
      "source": [
        "> The Europe and Northern America region missing values have been changed. Now I will check that all missing values have been successfully changed"
      ],
      "metadata": {
        "id": "PUcPbGZY78ZW"
      }
    },
    {
      "cell_type": "code",
      "source": [
        "# Count all missing values in the dataframe\n",
        "df.isna().sum()"
      ],
      "metadata": {
        "colab": {
          "base_uri": "https://localhost:8080/"
        },
        "id": "8ybMzNkI755R",
        "outputId": "b361c385-336a-41b2-ee77-79d973fd25ea"
      },
      "execution_count": 17,
      "outputs": [
        {
          "output_type": "execute_result",
          "data": {
            "text/plain": [
              "Region           0\n",
              "Country          0\n",
              "Year             0\n",
              "Age              0\n",
              "Gender           0\n",
              "Literacy rate    0\n",
              "dtype: int64"
            ]
          },
          "metadata": {},
          "execution_count": 17
        }
      ]
    },
    {
      "cell_type": "markdown",
      "source": [
        "> All missing values have been successfully changed."
      ],
      "metadata": {
        "id": "RFEBo2SN8Go4"
      }
    },
    {
      "cell_type": "markdown",
      "source": [
        "### Ensure all columns match the datatypes in the data dictionary"
      ],
      "metadata": {
        "id": "tzBFDCR3yMWK"
      }
    },
    {
      "cell_type": "markdown",
      "source": [
        "![practice data types.png](data:image/png;base64,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)"
      ],
      "metadata": {
        "id": "d_QF1kuCHoQQ"
      }
    },
    {
      "cell_type": "code",
      "source": [
        "# Check datatypes of all columns in dataframe\n",
        "df.dtypes"
      ],
      "metadata": {
        "colab": {
          "base_uri": "https://localhost:8080/"
        },
        "id": "XIXUNwI_Htat",
        "outputId": "40941ea1-2b29-4acc-ea11-340e4468ca5c"
      },
      "execution_count": 18,
      "outputs": [
        {
          "output_type": "execute_result",
          "data": {
            "text/plain": [
              "Region            object\n",
              "Country           object\n",
              "Year              object\n",
              "Age               object\n",
              "Gender            object\n",
              "Literacy rate    float64\n",
              "dtype: object"
            ]
          },
          "metadata": {},
          "execution_count": 18
        }
      ]
    },
    {
      "cell_type": "markdown",
      "source": [
        "> The only datatype that does not match the data dictionary is the year. I will first try to simply change the datatype to int."
      ],
      "metadata": {
        "id": "r2THByN3Hw3w"
      }
    },
    {
      "cell_type": "code",
      "source": [
        "# Change datatype of year column to int (I commented it out to get rid of the error in my run code)\n",
        "# df['Year'] = df['Year'].astype(int)"
      ],
      "metadata": {
        "id": "ZKLb6YDqH48g"
      },
      "execution_count": 19,
      "outputs": []
    },
    {
      "cell_type": "markdown",
      "source": [
        "> There is an error in simply changing the datatype since some of the data has non-numerical characters. "
      ],
      "metadata": {
        "id": "pxnrWJ1IIEwv"
      }
    },
    {
      "cell_type": "code",
      "source": [
        "# Count all the different values in the Year column\n",
        "df['Year'].value_counts()"
      ],
      "metadata": {
        "colab": {
          "base_uri": "https://localhost:8080/"
        },
        "id": "eOpnfFh0INjA",
        "outputId": "aa12fe3a-a0b4-452a-e0e1-22477eb93a7f"
      },
      "execution_count": 20,
      "outputs": [
        {
          "output_type": "execute_result",
          "data": {
            "text/plain": [
              "2018.0    574\n",
              "2011.0    454\n",
              "2014.0    439\n",
              "2010.0    400\n",
              "2012.0    344\n",
              "2015.0    316\n",
              "2013.0    264\n",
              "2016.0    264\n",
              "2017.0    246\n",
              "2011_       1\n",
              "3014.0      1\n",
              "Name: Year, dtype: int64"
            ]
          },
          "metadata": {},
          "execution_count": 20
        }
      ]
    },
    {
      "cell_type": "markdown",
      "source": [
        "> Looks like there is one data value labeled as '2011_' with the underscore character. I will have to change this value to exclude the underscore, then I will be able to change the datatype to int. "
      ],
      "metadata": {
        "id": "TKw3AZ7dIdT5"
      }
    },
    {
      "cell_type": "code",
      "source": [
        "# Change the one year value of '2011_' to 2011\n",
        "df.loc[df['Year'] == '2011_', 'Year'] = 2011"
      ],
      "metadata": {
        "id": "fVDSqSrTIr8d"
      },
      "execution_count": 21,
      "outputs": []
    },
    {
      "cell_type": "code",
      "source": [
        "# Change the datatype of the year column to int\n",
        "df['Year'] = df['Year'].astype(int)"
      ],
      "metadata": {
        "id": "mS7xWpoSI_zM"
      },
      "execution_count": 22,
      "outputs": []
    },
    {
      "cell_type": "code",
      "source": [
        "# Check datatypes of the dataframe\n",
        "df.dtypes"
      ],
      "metadata": {
        "colab": {
          "base_uri": "https://localhost:8080/"
        },
        "id": "r0bISd7YJGK3",
        "outputId": "88159188-3f40-4029-e50d-ecfc89b18647"
      },
      "execution_count": 23,
      "outputs": [
        {
          "output_type": "execute_result",
          "data": {
            "text/plain": [
              "Region            object\n",
              "Country           object\n",
              "Year               int64\n",
              "Age               object\n",
              "Gender            object\n",
              "Literacy rate    float64\n",
              "dtype: object"
            ]
          },
          "metadata": {},
          "execution_count": 23
        }
      ]
    },
    {
      "cell_type": "markdown",
      "source": [
        "> Now, all the datatypes match the data dictionary provided."
      ],
      "metadata": {
        "id": "8uaXZMkhJJ8g"
      }
    },
    {
      "cell_type": "markdown",
      "source": [
        "### ID and address any inconsistencies in categorical values"
      ],
      "metadata": {
        "id": "57NhXzmKySrZ"
      }
    },
    {
      "cell_type": "markdown",
      "source": [
        "> I'll check the value counts for the object and int type columns to ensure a consistancy in the categorical values."
      ],
      "metadata": {
        "id": "mh6lgbY2JmnI"
      }
    },
    {
      "cell_type": "code",
      "source": [
        "# Check values in Region column\n",
        "df['Region'].value_counts()"
      ],
      "metadata": {
        "colab": {
          "base_uri": "https://localhost:8080/"
        },
        "id": "9VNM5i0IJjA4",
        "outputId": "b756f1d5-900d-4ab5-d018-2bc195c6db77"
      },
      "execution_count": 24,
      "outputs": [
        {
          "output_type": "execute_result",
          "data": {
            "text/plain": [
              "Latin America and the Caribbean     940\n",
              "Sub-Saharan Africa                  770\n",
              "Northern Africa and Western Asia    568\n",
              "Europe and Northern America         336\n",
              "Central and Southern Asia           311\n",
              "Eastern and South-Eastern Asia      282\n",
              "Oceania                              96\n",
              "Name: Region, dtype: int64"
            ]
          },
          "metadata": {},
          "execution_count": 24
        }
      ]
    },
    {
      "cell_type": "markdown",
      "source": [
        "> It looks like there is a consistancy in the categorical values in the Region column"
      ],
      "metadata": {
        "id": "YIlPOdnnJ4ig"
      }
    },
    {
      "cell_type": "code",
      "source": [
        "# Check values in Country column\n",
        "# pd.set_option('display.max_rows', None)\n",
        "# df['Country'].value_counts().sort_index()"
      ],
      "metadata": {
        "id": "GpXckWP3J-T1"
      },
      "execution_count": 25,
      "outputs": []
    },
    {
      "cell_type": "markdown",
      "source": [
        "> There was a consistancy in the categorical values in the country column. I commented out the value_counts() since it was a lot to look at in the code. "
      ],
      "metadata": {
        "id": "iLgXgTVyMAXY"
      }
    },
    {
      "cell_type": "code",
      "source": [
        "# Check values in Year column\n",
        "df['Year'].value_counts().sort_index()"
      ],
      "metadata": {
        "colab": {
          "base_uri": "https://localhost:8080/"
        },
        "id": "PwthNAyEMKx9",
        "outputId": "ecf2b9e6-d1a1-4b32-97a2-8e1a5ff7ce63"
      },
      "execution_count": 26,
      "outputs": [
        {
          "output_type": "execute_result",
          "data": {
            "text/plain": [
              "2010    400\n",
              "2011    455\n",
              "2012    344\n",
              "2013    264\n",
              "2014    439\n",
              "2015    316\n",
              "2016    264\n",
              "2017    246\n",
              "2018    574\n",
              "3014      1\n",
              "Name: Year, dtype: int64"
            ]
          },
          "metadata": {},
          "execution_count": 26
        }
      ]
    },
    {
      "cell_type": "markdown",
      "source": [
        "> It looks like there is one value of 3014 that is most likely supposed to be 2014, so I will change that."
      ],
      "metadata": {
        "id": "ULhtP5GiMSFg"
      }
    },
    {
      "cell_type": "code",
      "source": [
        "# Change year value of 3014 to 2014\n",
        "df.loc[df['Year'] == 3014, 'Year'] = 2014\n",
        "\n",
        "# Recheck values in Year column to check change\n",
        "df['Year'].value_counts().sort_index()"
      ],
      "metadata": {
        "colab": {
          "base_uri": "https://localhost:8080/"
        },
        "id": "ZF2hsLAAMZhu",
        "outputId": "3bc95a82-e661-4021-d22c-b6f45471c3cf"
      },
      "execution_count": 27,
      "outputs": [
        {
          "output_type": "execute_result",
          "data": {
            "text/plain": [
              "2010    400\n",
              "2011    455\n",
              "2012    344\n",
              "2013    264\n",
              "2014    440\n",
              "2015    316\n",
              "2016    264\n",
              "2017    246\n",
              "2018    574\n",
              "Name: Year, dtype: int64"
            ]
          },
          "metadata": {},
          "execution_count": 27
        }
      ]
    },
    {
      "cell_type": "markdown",
      "source": [
        "> There is now a consistancy in the values in the Year column"
      ],
      "metadata": {
        "id": "q78APFYsMxkx"
      }
    },
    {
      "cell_type": "code",
      "source": [
        "# Check values in Age column\n",
        "df['Age'].value_counts()"
      ],
      "metadata": {
        "colab": {
          "base_uri": "https://localhost:8080/"
        },
        "id": "5zPsjsFgM1s-",
        "outputId": "b68d4761-8acb-4ca7-9acf-0576a74cea97"
      },
      "execution_count": 28,
      "outputs": [
        {
          "output_type": "execute_result",
          "data": {
            "text/plain": [
              "<15      840\n",
              "15-24    826\n",
              "25-64    826\n",
              "65+      811\n",
              "Name: Age, dtype: int64"
            ]
          },
          "metadata": {},
          "execution_count": 28
        }
      ]
    },
    {
      "cell_type": "markdown",
      "source": [
        "> There is consistincy in the categorical values in the Age column"
      ],
      "metadata": {
        "id": "V2fLjBRTtrW2"
      }
    },
    {
      "cell_type": "code",
      "source": [
        "# Check values in Gender column\n",
        "df['Gender'].value_counts()"
      ],
      "metadata": {
        "colab": {
          "base_uri": "https://localhost:8080/"
        },
        "id": "JRDNnJybM6BA",
        "outputId": "90cd6e4e-f557-4e4e-d701-8a00dcd6d511"
      },
      "execution_count": 30,
      "outputs": [
        {
          "output_type": "execute_result",
          "data": {
            "text/plain": [
              "female    1648\n",
              "male      1648\n",
              "F            4\n",
              "M            3\n",
              "Name: Gender, dtype: int64"
            ]
          },
          "metadata": {},
          "execution_count": 30
        }
      ]
    },
    {
      "cell_type": "markdown",
      "source": [
        "> There is some data with a 'F' instead of 'female' and a 'M' instead of 'male'. I will need to fix these."
      ],
      "metadata": {
        "id": "rm2T3aWTty3N"
      }
    },
    {
      "cell_type": "code",
      "source": [
        "# Change 'F' in the gender column to 'female'\n",
        "df.loc[df['Gender'] == 'F', 'Gender'] = 'female'\n",
        "\n",
        "# Change 'M' in the gender column to 'male'\n",
        "df.loc[df['Gender'] == 'M', 'Gender'] = 'male'"
      ],
      "metadata": {
        "id": "LxaR2n9Dt9Gz"
      },
      "execution_count": 31,
      "outputs": []
    },
    {
      "cell_type": "code",
      "source": [
        "# Check values in Gender column\n",
        "df['Gender'].value_counts()"
      ],
      "metadata": {
        "colab": {
          "base_uri": "https://localhost:8080/"
        },
        "id": "nA1Prv8quSPE",
        "outputId": "9ee0d56f-cdd1-48bc-a208-460fea8a6c80"
      },
      "execution_count": 32,
      "outputs": [
        {
          "output_type": "execute_result",
          "data": {
            "text/plain": [
              "female    1652\n",
              "male      1651\n",
              "Name: Gender, dtype: int64"
            ]
          },
          "metadata": {},
          "execution_count": 32
        }
      ]
    },
    {
      "cell_type": "markdown",
      "source": [
        "> There is now consistancy in the values in the Gender column. This is the final column with categorical values. Therefore, the dataset is consistant through all columns. "
      ],
      "metadata": {
        "id": "Sp9AVCKyuXH2"
      }
    },
    {
      "cell_type": "markdown",
      "source": [
        "### ID and address any inappropriate or unusual data points"
      ],
      "metadata": {
        "id": "2A9MMs62yXdp"
      }
    },
    {
      "cell_type": "markdown",
      "source": [
        "> We have already looked at the categories for the Year and Age columns, and delt with any inconsistancies and inappropriate data points. Therefore, we will now look at the Literacy rate column to ensure the data makes sense. The Literacy rate value should be between 0-1, as it represents a percentage of literacy."
      ],
      "metadata": {
        "id": "02DmRGHPuqe1"
      }
    },
    {
      "cell_type": "code",
      "source": [
        "df['Literacy rate'].describe()"
      ],
      "metadata": {
        "colab": {
          "base_uri": "https://localhost:8080/"
        },
        "id": "Ts5CW3BLJjTZ",
        "outputId": "10e8450c-91f1-4f5f-d51d-9f11893d8163"
      },
      "execution_count": 35,
      "outputs": [
        {
          "output_type": "execute_result",
          "data": {
            "text/plain": [
              "count    3303.000000\n",
              "mean        0.817523\n",
              "std         0.229240\n",
              "min         0.004025\n",
              "25%         0.745635\n",
              "50%         0.908835\n",
              "75%         0.979203\n",
              "max         1.000000\n",
              "Name: Literacy rate, dtype: float64"
            ]
          },
          "metadata": {},
          "execution_count": 35
        }
      ]
    },
    {
      "cell_type": "markdown",
      "source": [
        "> The min and max values in the Literacy rate column are between 0-1. Therefore, there are no unusual data points in this column."
      ],
      "metadata": {
        "id": "kxjJo3PmvTwu"
      }
    },
    {
      "cell_type": "markdown",
      "source": [
        "## 2. Complete an exploration of the data using Python"
      ],
      "metadata": {
        "id": "BBKHlYICxl2a"
      }
    },
    {
      "cell_type": "markdown",
      "source": [
        "### Two different types of univariate exploratory visualizations."
      ],
      "metadata": {
        "id": "vvMK73_PJYJY"
      }
    },
    {
      "cell_type": "markdown",
      "source": [
        "#### Histogram of Literacy Rate"
      ],
      "metadata": {
        "id": "U21XzgXUzx3s"
      }
    },
    {
      "cell_type": "code",
      "source": [
        "# plot histogram for the literacy rate of the dataset\n",
        "plt.figure(figsize = (8,6));\n",
        "plt.hist(df['Literacy rate'], bins = 'auto', edgecolor = 'black'); #Create histogram\n",
        "plt.xlabel('Literacy Rate', fontsize = 12);\n",
        "plt.ylabel('Count', fontsize = 12);\n",
        "plt.title('Distribution of Literacy Rate', fontsize = 16);\n",
        "\n",
        "# Add vertical line for median value of literacy rate\n",
        "median = df['Literacy rate'].mean();\n",
        "plt.axvline(median, color = 'red', linestyle = '--',\n",
        "            label = f'Median Literacy Rate = {median:,.4f}')\n",
        "plt.legend();#display legend"
      ],
      "metadata": {
        "colab": {
          "base_uri": "https://localhost:8080/",
          "height": 409
        },
        "id": "uMNJiRlfJhV2",
        "outputId": "e31907d2-753f-4440-c8b4-756991d6603f"
      },
      "execution_count": 69,
      "outputs": [
        {
          "output_type": "display_data",
          "data": {
            "text/plain": [
              "<Figure size 576x432 with 1 Axes>"
            ],
            "image/png": "[encoded data removed]"
          },
          "metadata": {
            "needs_background": "light"
          }
        }
      ]
    },
    {
      "cell_type": "markdown",
      "source": [
        "> Most citizens the data is taken from have a high literacy rate. There are high counts of literacy above the median Literacy Rate of 0.8175. The lower the literacy rate, the lower the number of datapoints there are in the dataset."
      ],
      "metadata": {
        "id": "YMfbUZW806S1"
      }
    },
    {
      "cell_type": "markdown",
      "source": [
        "#### Boxplot of Literacy Rate by Region"
      ],
      "metadata": {
        "id": "q1sHBpFh1X9d"
      }
    },
    {
      "cell_type": "code",
      "source": [
        "# Create a list for each region with the literacy rate values\n",
        "# list for Latin America and the Caribbean Region\n",
        "lamerica = df.loc[df['Region'] == 'Latin America and the Caribbean', 'Literacy rate'].values;\n",
        "# list for Sub-Saharan Africa Region\n",
        "subsaharan = df.loc[df['Region'] == 'Sub-Saharan Africa', 'Literacy rate'].values;\n",
        "# list for Northern Africa and Western Asia Region\n",
        "nafrica = df.loc[df['Region'] == 'Northern Africa and Western Asia', 'Literacy rate'].values;\n",
        "# list for Europe and Northern America Region\n",
        "europe = df.loc[df['Region'] == 'Europe and Northern America', 'Literacy rate'].values;\n",
        "# list for Central and Southern Asia Region\n",
        "casia = df.loc[df['Region'] == 'Central and Southern Asia', 'Literacy rate'].values;\n",
        "# list for Eastern and South-Eastern Asia Region\n",
        "easia = df.loc[df['Region'] == 'Eastern and South-Eastern Asia', 'Literacy rate'].values;\n",
        "# list for Oceania Region\n",
        "oceania = df.loc[df['Region'] == 'Oceania', 'Literacy rate'].values;"
      ],
      "metadata": {
        "id": "-i8t9Svm1mOG"
      },
      "execution_count": 73,
      "outputs": []
    },
    {
      "cell_type": "code",
      "source": [
        "# Ignore warnings when displaying plots\n",
        "import warnings\n",
        "warnings.filterwarnings('ignore')"
      ],
      "metadata": {
        "id": "5mxKon6Z3S01"
      },
      "execution_count": 78,
      "outputs": []
    },
    {
      "cell_type": "code",
      "source": [
        "# Display boxplots for literacy rate based on Region\n",
        "plt.figure(figsize = (10,8));\n",
        "plt.boxplot([lamerica, subsaharan, nafrica, europe, casia, easia, oceania],\n",
        "            labels = ['Latin America and the Caribbean', \n",
        "                      'Sub-Saharan Africa',\n",
        "                      'Northern Africa and Western Asia', \n",
        "                      'Europe and Northern America',\n",
        "                      'Central and Southern Asia',\n",
        "                      'Eastern and South-Eastern Asia',\n",
        "                      'Oceania']);\n",
        "plt.xticks(rotation = 90);\n",
        "plt.title('Distribution of Literacy Rates based on Region', fontsize = 16);"
      ],
      "metadata": {
        "colab": {
          "base_uri": "https://localhost:8080/",
          "height": 657
        },
        "id": "TTj7vE-e2ajg",
        "outputId": "88005705-9563-4970-8fa3-4d61dbca5fd6"
      },
      "execution_count": 81,
      "outputs": [
        {
          "output_type": "display_data",
          "data": {
            "text/plain": [
              "<Figure size 720x576 with 1 Axes>"
            ],
            "image/png": "[encoded data removed]"
          },
          "metadata": {
            "needs_background": "light"
          }
        }
      ]
    },
    {
      "cell_type": "markdown",
      "source": [
        "> The Literacy rates in the regions of 'Europe and Northern America' and 'Eastern and South-Eastern Asia' are at one solid rate, with no variations across the years, genders, and age ranges. \n",
        "\n",
        "> The literacy rates in the regions of 'Central and Southern Asia' and 'Sub-Saharan Africa' are widely spread. All the literacy rates in those regions are evenly spread throughout the entire range of around 0-1.\n",
        "\n",
        "> As for the remaining 3 regions. Their literacy rates are mostly grouped in the range of 0.6 - 1, meaning those regions have a fairly high literacy. There are some low outliers, but the majority of the data is high literacy."
      ],
      "metadata": {
        "id": "CAeWN8cq3pPq"
      }
    },
    {
      "cell_type": "markdown",
      "source": [
        "### Two different types of multivariate exploratory visualizations"
      ],
      "metadata": {
        "id": "hTf00atIJdF5"
      }
    },
    {
      "cell_type": "markdown",
      "source": [
        "#### Heatmap of the dataset"
      ],
      "metadata": {
        "id": "FvrBxfy9vrum"
      }
    },
    {
      "cell_type": "code",
      "source": [
        "# calculate correlation matrix\n",
        "corr = df.corr()"
      ],
      "metadata": {
        "id": "PeBm0_pjJhwZ"
      },
      "execution_count": 36,
      "outputs": []
    },
    {
      "cell_type": "code",
      "source": [
        "# Display heatmap with correlation values\n",
        "sns.heatmap(corr, cmap = 'Blues', annot = True);"
      ],
      "metadata": {
        "colab": {
          "base_uri": "https://localhost:8080/",
          "height": 269
        },
        "id": "0bNcemSov4hv",
        "outputId": "80acb45f-2524-40e2-f1e8-57faf930b60b"
      },
      "execution_count": 38,
      "outputs": [
        {
          "output_type": "display_data",
          "data": {
            "text/plain": [
              "<Figure size 432x288 with 2 Axes>"
            ],
            "image/png": "[encoded data removed]"
          },
          "metadata": {
            "needs_background": "light"
          }
        }
      ]
    },
    {
      "cell_type": "markdown",
      "source": [
        "> As the only two numerical values, the heatmap only shows the correlation between Year and Literacy rate. The heatmap shows that there is no correlation between the two values in the data, as seen by the correlation coefficient of -0.0076."
      ],
      "metadata": {
        "id": "k4lelhyCwGhu"
      }
    },
    {
      "cell_type": "markdown",
      "source": [
        "#### Scatterplot of Region vs. Literacy rate"
      ],
      "metadata": {
        "id": "3Nr3W8k6wjQ8"
      }
    },
    {
      "cell_type": "code",
      "source": [
        "# Create a scatterplot of the Region vs. the Literacy Rate\n",
        "plt.figure(figsize = (10,8))\n",
        "plt.scatter(df['Region'], df['Literacy rate']);\n",
        "plt.xticks(rotation = 90, fontsize = 12);\n",
        "plt.xlabel('Region', fontsize = 14);\n",
        "plt.ylabel('Literacy rate', fontsize = 14);\n",
        "plt.title('Literacy rate vs. Region Scatter Plot', fontsize = 20);"
      ],
      "metadata": {
        "colab": {
          "base_uri": "https://localhost:8080/",
          "height": 713
        },
        "id": "YVTKN9e1wnbS",
        "outputId": "1e6a0380-3b8c-4a80-a2e1-aec588252b95"
      },
      "execution_count": 58,
      "outputs": [
        {
          "output_type": "display_data",
          "data": {
            "text/plain": [
              "<Figure size 720x576 with 1 Axes>"
            ],
            "image/png": "[encoded data removed]"
          },
          "metadata": {
            "needs_background": "light"
          }
        }
      ]
    },
    {
      "cell_type": "markdown",
      "source": [
        "> This scatterplot shows me that the lowest literacy rates are seen in the regions of 'Central and Southern Asia', 'Latin America and the Caribbean', 'Northern Africa and Western Asia', and 'Sub-Saharan Africa'. These are also the regions with the most varied literacy rate.\n",
        "\n",
        "> The regions of 'Eastern and South-Eastern Asia' and 'Europe and Northern America' have a very tight spread in their literacy rate. With 'Europe and Northern America' having an almost perfect literacy rate in the dataset. \n",
        "\n",
        "> The region of 'Oceania' has a relatively varied literacy rate, such as with the regions first discussed. However, their lowest literacy rate is higher than those regions. "
      ],
      "metadata": {
        "id": "0EOZa7BAy1BW"
      }
    }
  ]
}